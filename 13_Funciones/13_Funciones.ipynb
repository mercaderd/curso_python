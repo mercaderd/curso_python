{
 "cells": [
  {
   "attachments": {},
   "cell_type": "markdown",
   "metadata": {},
   "source": [
    "# 📗 Lección 13: Funciones\n",
    "\n",
    "## Definición\n",
    "\n",
    "Una función es un bloque reutilizable de código o sentencias de programación diseñado para realizar una determinada tarea, con un nombre para poder ser invocado. Para definir o declarar una función, Python proporciona la palabra reservada *def*. El bloque de código únicamente se ejecuta si la función es llamada (no cuando se declara/define)."
   ]
  },
  {
   "cell_type": "markdown",
   "metadata": {},
   "source": [
    "## Librería estándar de Python\n",
    "\n",
    "La [biblioteca estándar](https://docs.python.org/es/3.10/library/index.html) de Python es muy amplia, y ofrece una serie de módulos con funciones incorporadas (built-in) y una colección de módulos con otras funciones.\n",
    "\n",
    "### Funciones built-in (incorporadas)\n",
    "\n",
    "Python proporciona una serie de [funciones integradas](https://docs.python.org/3.10/library/functions.html) importantes que podemos usar sin necesidad de proporcionar la definición de la función. Los creadores de Python escribieron un conjunto de funciones para resolver problemas comunes y las incluyeron en Python para que las utilicemos.\n",
    "### Otros módulos de la librería estándar de python\n",
    "\n",
    "Son módulos que proveen soluciones estandarizadas para los diversos problemas que pueden ocurrir en el día a día en la programación. Algunos de éstos módulos están diseñados explícitamente para alentar y reforzar la portabilidad de los programas en Python abstrayendo especificidades de las plataformas para lograr APIs neutrales a la plataforma.\n",
    "\n",
    "- Procesamiento de cadenas de texto: *strings*, *re*, ...\n",
    "- Tratamiento de datos en bytes: *struct*, *codecs*.\n",
    "- Otros tipos de datos: *datetime*, *collections*, *enum*, ...\n",
    "- Módulos numéricos y matemáticos: *numbers*, *math*, *random*, *statistics*, ...\n",
    "- Acceso a archivos y directorios: *pathlib*, *os.path*, *shutil*, ...\n",
    "- Persistencia de datos: *pickle*, *sqlite3*, ...\n",
    "- Compresión y archivo: *zlib*, *gzip*, *bz2*, *zipfile*, *tarfile*, ...\n",
    "- Formatos de archivo: *csv*, *configparser*, ...\n",
    "- Criptografía: *hashlib*, *hmac*, *secrets*.\n",
    "- Servicios genéricos del SO: *so*, *io*, *time*, *argparse*, *logging*, ...\n",
    "- Ejecución concurrente: *threading*, *subprocess*, ...\n",
    "- Redes: *socket*, *ssl*, *asyncio*, ...\n",
    "- Datos en internet: *email*, *json*, *base64*, *mimetypes*, ...\n",
    "- Proceso de formatos de marcado estructurado: *xml*, *html*, ...\n",
    "- Protocolos y soporte de internet: *urllib*, *httpserver*, *ftplib*, ...\n",
    "- Interfaces gráficas de usuario: *tkinter*, ...\n",
    "- Empaquetado y distribución de software: *distutils*, *venv*, *zipapp*, ...\n",
    "- Servicios específicos de Windows y Unix\n",
    "- ..."
   ]
  },
  {
   "cell_type": "code",
   "execution_count": 51,
   "metadata": {},
   "outputs": [
    {
     "name": "stdout",
     "output_type": "stream",
     "text": [
      "JlsVj&if\\so\"+ig:T@%U\n",
      "e]G2&$'gb9Jd~g_gH['z\n"
     ]
    }
   ],
   "source": [
    "# Ejemplos utilizando la librería estándar de python\n",
    "\n",
    "import random, string\n",
    "\n",
    "## Generando contraseñas\n",
    "\n",
    "length = 20\n",
    "password = ''\n",
    "for i in range(length):\n",
    "    password += random.choice(string.punctuation + string.ascii_lowercase + string.ascii_uppercase + string.digits)\n",
    "\n",
    "print(password)\n",
    "\n",
    "## Generando contraseñas con más aleatoriedad\n",
    "import secrets\n",
    "length = 20\n",
    "password = ''\n",
    "for i in range(length):\n",
    "    password += secrets.choice(string.punctuation + string.ascii_lowercase + string.ascii_uppercase + string.digits)\n",
    "\n",
    "print(password)\n",
    "\n"
   ]
  },
  {
   "cell_type": "markdown",
   "metadata": {},
   "source": [
    "## Declarar y llamar funciones\n",
    "\n",
    "- Cuando se crea o define el comportamiento de una función, se está **declarando** la función.\n",
    "- Para utilizar una función hay que **llamarla** o **invocarla**.\n",
    "\n",
    "📝 **Nota:** Las funciones se pueden declarar con parámetros o sin ellos.\n",
    "\n",
    "### Función sin parámetros/argumentos\n",
    "\n",
    "```python\n",
    "# sintaxis en pseudocódigo\n",
    "# Declarar una función\n",
    "def nombre_funcion():\n",
    "    haz esto\n",
    "    haz esto también \n",
    "    haz esto también\n",
    "\n",
    "# Llamar a la función\n",
    "nombre_funcion()\n",
    "```"
   ]
  },
  {
   "cell_type": "code",
   "execution_count": 52,
   "metadata": {},
   "outputs": [
    {
     "name": "stdout",
     "output_type": "stream",
     "text": [
      "8`6Mm2-gKrX`3\"p!Z]ZB\n"
     ]
    }
   ],
   "source": [
    "# Declarar y llamar funciones\n",
    "\n",
    "# Declarar una función\n",
    "def password_gen():\n",
    "    length = 20\n",
    "    password = ''\n",
    "    for i in range(length):\n",
    "        password += secrets.choice(string.punctuation + string.ascii_lowercase + string.ascii_uppercase + string.digits)\n",
    "    print(password)\n",
    "    \n",
    "\n",
    "# Llamar una función\n",
    "password_gen()"
   ]
  },
  {
   "cell_type": "markdown",
   "metadata": {},
   "source": [
    "### Funciones devolviendo un valor\n",
    "\n",
    "Las funciones pueden devolver valores utilizando *return*. Las funciones que no utilizan *return* devuelven el valor *None*.\n"
   ]
  },
  {
   "cell_type": "code",
   "execution_count": 53,
   "metadata": {},
   "outputs": [
    {
     "name": "stdout",
     "output_type": "stream",
     "text": [
      "Nueva contraseña: ?lqj7k}Oy5)ZBjbfp#:)\n"
     ]
    }
   ],
   "source": [
    "# Funciones devolviendo un valor\n",
    "\n",
    "# Declarar una función\n",
    "def password_gen():\n",
    "    length = 20\n",
    "    password = ''\n",
    "    for i in range(length):\n",
    "        password += secrets.choice(string.punctuation + string.ascii_lowercase + string.ascii_uppercase + string.digits)\n",
    "    return password\n",
    "    \n",
    "\n",
    "# Llamar una función\n",
    "mi_contraseña = password_gen()\n",
    "print(f'Nueva contraseña: {mi_contraseña}')\n",
    "    "
   ]
  },
  {
   "cell_type": "markdown",
   "metadata": {},
   "source": [
    "### Funciones con parámetros\n",
    "\n",
    "- A las funciones se les pueden pasar parámetro/argumentos de diferentes tipos (números, cadenas, booleanos, listas, tuplas, diccionarios, conjuntos, otros)\n",
    "\n",
    "```python\n",
    "#sintaxis pseudocódigo\n",
    "\n",
    "# Declaración\n",
    "def nombre_funcion(parametro):\n",
    "    haz esto\n",
    "    haz esto también \n",
    "    haz esto también\n",
    "\n",
    "\n",
    "# Llamada\n",
    "nombre_funcion(argumento)\n",
    "\n",
    "# Declaración con múltiples argumentos\n",
    "\n",
    "def nombre_funcion(parametro1, parametro2):\n",
    "    haz esto\n",
    "    haz esto también \n",
    "    haz esto también\n",
    "\n",
    "\n",
    "# Llamada\n",
    "nombre_funcion(argumento1, argumento2)\n",
    "```"
   ]
  },
  {
   "cell_type": "code",
   "execution_count": 54,
   "metadata": {},
   "outputs": [
    {
     "name": "stdout",
     "output_type": "stream",
     "text": [
      "Nueva contraseña: YFU9UxG7eyz1xgP\n",
      "Nueva contraseña: MFavvBzKic6Gy3D\n"
     ]
    }
   ],
   "source": [
    "# Funciones con argumentos\n",
    "\n",
    "# Declarar una función\n",
    "def password_gen(length, alphabet):\n",
    "    password = ''\n",
    "    for i in range(length):\n",
    "        password += secrets.choice(alphabet)\n",
    "    return password\n",
    "    \n",
    "my_alphabet = string.ascii_lowercase + string.ascii_uppercase + string.digits\n",
    "\n",
    "# Llamar una función mediante argumentos posicionales\n",
    "mi_contraseña = password_gen(15, my_alphabet)\n",
    "print(f'Nueva contraseña: {mi_contraseña}')\n",
    "\n",
    "# Llamar a la función mediante argumentos por clave (por nombre de parámetro)\n",
    "mi_contraseña = password_gen(alphabet = my_alphabet, length = 15)\n",
    "print(f'Nueva contraseña: {mi_contraseña}')\n",
    "\n",
    "# Si se llama la función mezclando argumentos posicionales y nominales, primero deben ir todos los posicionales."
   ]
  },
  {
   "cell_type": "markdown",
   "metadata": {},
   "source": [
    "Con *return* se puede devolver cualquier tipo de dato."
   ]
  },
  {
   "cell_type": "code",
   "execution_count": 55,
   "metadata": {},
   "outputs": [
    {
     "name": "stdout",
     "output_type": "stream",
     "text": [
      "False\n",
      "True\n",
      "False\n",
      "True\n",
      "None\n",
      "False\n",
      "True\n",
      "Algo fue mal!\n",
      "None\n"
     ]
    }
   ],
   "source": [
    "# Declarar una función\n",
    "def es_par(num):\n",
    "    if num % 2 == 0:\n",
    "        return True\n",
    "    else:\n",
    "        return False\n",
    "\n",
    "\n",
    "# Llamando la función\n",
    "print(es_par(7))\n",
    "print(es_par(8))\n",
    "#print(es_par('Hola'))\n",
    "\n",
    "\n",
    "# Declarar una función\n",
    "def es_par(num):\n",
    "    if type(num) == int or type(num) == float:\n",
    "        if num % 2 == 0:\n",
    "            return True\n",
    "        else:\n",
    "            return False\n",
    "    else:\n",
    "        return None\n",
    "\n",
    "# Llamando la función\n",
    "print(es_par(7))\n",
    "print(es_par(8))\n",
    "print(es_par('Hola'))\n",
    "\n",
    "# Declarar una función\n",
    "def es_par(num):\n",
    "    try:\n",
    "        if num % 2 == 0:\n",
    "            return True\n",
    "        else:\n",
    "            return False\n",
    "    except:\n",
    "        print('Algo fue mal!')\n",
    "        return None\n",
    "\n",
    "# Llamando la función\n",
    "print(es_par(7))\n",
    "print(es_par(8))\n",
    "print(es_par('Hola'))"
   ]
  },
  {
   "cell_type": "code",
   "execution_count": 56,
   "metadata": {},
   "outputs": [
    {
     "ename": "TypeError",
     "evalue": "password_gen() missing 1 required positional argument: 'alphabet'",
     "output_type": "error",
     "traceback": [
      "\u001b[0;31m---------------------------------------------------------------------------\u001b[0m",
      "\u001b[0;31mTypeError\u001b[0m                                 Traceback (most recent call last)",
      "\u001b[1;32m/workspaces/curso_python/13_Funciones/13_Funciones.ipynb Celda 12\u001b[0m line \u001b[0;36m3\n\u001b[1;32m      <a href='vscode-notebook-cell://codespaces%2Breimagined-bassoon-q4r9rwxxvg3x57q/workspaces/curso_python/13_Funciones/13_Funciones.ipynb#X40sdnNjb2RlLXJlbW90ZQ%3D%3D?line=0'>1</a>\u001b[0m \u001b[39m# Llamar la función con parámetros de menos o de más da error\u001b[39;00m\n\u001b[0;32m----> <a href='vscode-notebook-cell://codespaces%2Breimagined-bassoon-q4r9rwxxvg3x57q/workspaces/curso_python/13_Funciones/13_Funciones.ipynb#X40sdnNjb2RlLXJlbW90ZQ%3D%3D?line=2'>3</a>\u001b[0m mi_contraseña \u001b[39m=\u001b[39m password_gen(\u001b[39m15\u001b[39;49m)\n\u001b[1;32m      <a href='vscode-notebook-cell://codespaces%2Breimagined-bassoon-q4r9rwxxvg3x57q/workspaces/curso_python/13_Funciones/13_Funciones.ipynb#X40sdnNjb2RlLXJlbW90ZQ%3D%3D?line=3'>4</a>\u001b[0m \u001b[39mprint\u001b[39m(\u001b[39mf\u001b[39m\u001b[39m'\u001b[39m\u001b[39mNueva contraseña: \u001b[39m\u001b[39m{\u001b[39;00mmi_contraseña\u001b[39m}\u001b[39;00m\u001b[39m'\u001b[39m)\n",
      "\u001b[0;31mTypeError\u001b[0m: password_gen() missing 1 required positional argument: 'alphabet'"
     ]
    }
   ],
   "source": [
    "# Llamar la función con parámetros de menos o de más da error\n",
    "\n",
    "mi_contraseña = password_gen(15)\n",
    "print(f'Nueva contraseña: {mi_contraseña}')"
   ]
  },
  {
   "cell_type": "markdown",
   "metadata": {},
   "source": [
    "### Funciones con parámetros por defecto\n",
    "\n",
    "Para prevenir lo anterior, se pueden definir parámetros con valores por defecto. Si los parámetros no se pasa, tomarán el valor por defecto.\n",
    "\n",
    "```python\n",
    "#sintaxis pseudocódigo\n",
    "\n",
    "# Declaración\n",
    "def nombre_funcion(parametro = valor):\n",
    "    haz esto\n",
    "    haz esto también \n",
    "    haz esto también\n",
    "\n",
    "\n",
    "# Llamada\n",
    "nombre_funcion()\n",
    "nombre_funcion(argumento)\n",
    "```"
   ]
  },
  {
   "cell_type": "code",
   "execution_count": null,
   "metadata": {},
   "outputs": [
    {
     "name": "stdout",
     "output_type": "stream",
     "text": [
      "Nueva contraseña: Y;1wG8OWec#m*&\"\n",
      "Nueva contraseña: h>\\q})*:/[|ol.e\n"
     ]
    }
   ],
   "source": [
    "# Funciones con argumentos por defecto\n",
    "\n",
    "# Declarar una función\n",
    "def password_gen(length, alphabet = string.punctuation + string.ascii_lowercase + string.ascii_uppercase + string.digits):\n",
    "    password = ''\n",
    "    for i in range(length):\n",
    "        password += secrets.choice(alphabet)\n",
    "    return password\n",
    "    \n",
    "\n",
    "# Llamar una función con un parámetro por defecto\n",
    "mi_contraseña = password_gen(15)\n",
    "print(f'Nueva contraseña: {mi_contraseña}')\n",
    "\n",
    "# Llamar a la función dando una valor al argumento por defecto\n",
    "my_alphabet = string.punctuation + string.ascii_lowercase\n",
    "mi_contraseña = password_gen(alphabet = my_alphabet, length = 15)\n",
    "print(f'Nueva contraseña: {mi_contraseña}')\n"
   ]
  },
  {
   "cell_type": "markdown",
   "metadata": {},
   "source": [
    "## Funciones con un número arbitrario (no definido) de argumentos posicionales - args\n",
    "\n",
    "- En ocasiones el programador quiere permitir que la función se llame con un número indefinido de argumentos. Esto se consigue añadiendo un * al nombre del parámetro. Ej: **args*\n",
    "- En el cuerpo de la función los argumentos posicionales serán tratados como en una lista. Ej: Se podría recorrer con *for arg in args*\n",
    "\n",
    "```python\n",
    "# sintaxis en pseudo código\n",
    "\n",
    "# Declarar la función\n",
    "def nombre_funcion(*args):\n",
    "    haz esto\n",
    "    haz esto\n",
    "\n",
    "# Llamar a la función\n",
    "nombre_funcion(param1, param2, param3,..)\n",
    "```"
   ]
  },
  {
   "cell_type": "code",
   "execution_count": null,
   "metadata": {},
   "outputs": [
    {
     "name": "stdout",
     "output_type": "stream",
     "text": [
      "60\n",
      "26\n",
      "Team name: Macacos\n",
      "\t- Marcos\n",
      "\t- Teresa\n",
      "\t- Antonio\n",
      "\t- Pilar\n"
     ]
    }
   ],
   "source": [
    "# Funciones con un número indeterminado de argumentos\n",
    "\n",
    "# Definir la función\n",
    "def sum_all(*nums):\n",
    "    total = 0       # Dentro de la función nums es una lista con los argumentos pasados a la función\n",
    "    for num in nums:\n",
    "        total += num\n",
    "    return total\n",
    "\n",
    "# Llamar a la función\n",
    "print(sum_all(5,6,7,8,10,24))\n",
    "print(sum_all(5,6,7,8))\n",
    "\n",
    "# Se puede combinar con argumentos definidos y argumentos por defecto\n",
    "\n",
    "# Definir\n",
    "def team_list(team, *members):\n",
    "    print(f'Team name: {team}')\n",
    "    for member in members:\n",
    "        print(f'\\t- {member}')\n",
    "\n",
    "# Llamar\n",
    "team_list('Macacos', 'Marcos', 'Teresa', 'Antonio', 'Pilar')\n"
   ]
  },
  {
   "cell_type": "markdown",
   "metadata": {},
   "source": [
    "## Funciones con un número arbitrario (no definido) de argumentos por clave - kwargs\n",
    "\n",
    "- De forma similar, pero se consigue añadiendo un ** al nombre del parámetro. Ej: ***kwarg*\n",
    "- En el cuerpo de la función los argumentos por clave serán tratados como un diccionario. Ej: Se puede recorrer con *for key,value in kwargs.items()*"
   ]
  },
  {
   "cell_type": "code",
   "execution_count": null,
   "metadata": {},
   "outputs": [
    {
     "name": "stdout",
     "output_type": "stream",
     "text": [
      "60\n",
      "26\n",
      "Team name: Macacos\n",
      "\t- delantero: Marcos\n",
      "\t- portera: Teresa\n",
      "\t- reserva1: Antonio\n",
      "\t- reserva2: Pilar\n"
     ]
    }
   ],
   "source": [
    "# Funciones con un número indeterminado de argumentos nominales\n",
    "\n",
    "# Definir la función\n",
    "def sum_all(**nums):\n",
    "    total = 0\n",
    "    for num in nums.values():\n",
    "        total += num\n",
    "    return total\n",
    "\n",
    "# Llamar a la función\n",
    "print(sum_all(a=5,b=6,c=7,d=8,e=10,f=24))\n",
    "print(sum_all(a=5,b=6,c=7,g=8))\n",
    "\n",
    "# Se puede combinar con argumentos definidos y argumentos por defecto\n",
    "\n",
    "# Definir\n",
    "def team_list(team, **members):\n",
    "    print(f'Team name: {team}')\n",
    "    for posicion,member in members.items():\n",
    "        print(f'\\t- {posicion}: {member}')\n",
    "\n",
    "# Llamar\n",
    "team_list('Macacos', delantero = 'Marcos', portera = 'Teresa', reserva1 = 'Antonio', reserva2 = 'Pilar')"
   ]
  },
  {
   "cell_type": "markdown",
   "metadata": {},
   "source": [
    "> 📝 **Nota:** El orden de los parámtros es muy importante, tanto en la definición de la función como en la llamada, y debe ser este : \n",
    ">   1. Parámetros estándar (si los hay)\n",
    ">   2. Parámetros posicionales indefinidos (*args)\n",
    ">   3. Parámetros por clave indefinidos (**kwargs)\n"
   ]
  },
  {
   "cell_type": "markdown",
   "metadata": {},
   "source": [
    "## Desempaquetar argumentos\n",
    "\n",
    "- Una lista se puede desempaqueta con * en argumentos posicionales para llamar una función.\n",
    "- Un diccionario se puede desempaquetar con ** en argumentos por clave para llamar una función."
   ]
  },
  {
   "cell_type": "code",
   "execution_count": null,
   "metadata": {},
   "outputs": [
    {
     "name": "stdout",
     "output_type": "stream",
     "text": [
      "Hola, Pepe!\n",
      "Hola, María!\n",
      "Hola, Carlos!\n",
      "Hola, Pepe!\n",
      "Hola, María!\n",
      "Hola, Carlos!\n"
     ]
    }
   ],
   "source": [
    "# Desempaquetar lista en argumentos posicionales\n",
    "\n",
    "# Definicion\n",
    "def saluda_amigos(*amigos):\n",
    "    for amigo in amigos:\n",
    "        print(f'Hola, {amigo}!')\n",
    "\n",
    "mis_amigos = ['Pepe', 'María', 'Carlos']\n",
    "\n",
    "saluda_amigos(mis_amigos[0], mis_amigos[1], mis_amigos[2])\n",
    "\n",
    "saluda_amigos(*mis_amigos)"
   ]
  },
  {
   "cell_type": "code",
   "execution_count": null,
   "metadata": {},
   "outputs": [
    {
     "name": "stdout",
     "output_type": "stream",
     "text": [
      "Team name: Macacos\n",
      "\t- Delantero: Daniel\n",
      "\t- Defensa1: Pedro\n",
      "\t- Defensa2: Pedro\n",
      "\t- Portero: Lucas\n"
     ]
    }
   ],
   "source": [
    "# Desempaquetar diccionario en argumentos por clave\n",
    "\n",
    "def team_list(team, **members):\n",
    "    print(f'Team name: {team}')\n",
    "    for posicion,member in members.items():\n",
    "        print(f'\\t- {posicion}: {member}')\n",
    "\n",
    "# Llamar\n",
    "mi_equipo = {'Delantero': 'Daniel', \n",
    "             'Defensa1': 'Pedro', \n",
    "             'Defensa2': 'Pedro', \n",
    "             'Portero': 'Lucas'}\n",
    "\n",
    "team_list('Macacos', **mi_equipo)"
   ]
  },
  {
   "cell_type": "markdown",
   "metadata": {},
   "source": [
    "## Documentando funciones - Docstrings\n",
    "\n",
    "Las cadenas de documentación o docstrings son textos que se escriben entre triples comillas dentro de los programas para documentarlos. Cuando se desarrolla un proyecto donde colaboran varias personas contar con información clara y precisa que facilite la comprensión del código es imprescindible y beneficia a todos los participantes y al propio proyecto.\n",
    "\n",
    "Las funciones, clases y módulos deben ir convenientemente documentados. La información de las docstrings estará disponible cuando se edite el código y, también, durante la ejecución de los programas."
   ]
  },
  {
   "cell_type": "code",
   "execution_count": null,
   "metadata": {},
   "outputs": [
    {
     "name": "stdout",
     "output_type": "stream",
     "text": [
      "Help on function password_gen in module __main__:\n",
      "\n",
      "password_gen(length, alphabet='!\"#$%&\\'()*+,-./:;<=>?@[\\\\]^_`{|}~abcdefghijklmnopqrstuvwxyzABCDEFGHIJKLMNOPQRSTUVWXYZ0123456789')\n",
      "    Genera una contraseña segura de longitud length\n",
      "    Parámetros por clave opcionales:\n",
      "    alphabet: Cadena con caracteres a utilizar en la contraseña. Por defecto, signos de puntuación, minúsculas, mayúsculas y números\n",
      "\n"
     ]
    }
   ],
   "source": [
    "# Documentando funciones\n",
    "\n",
    "# Declaración\n",
    "def password_gen(length, alphabet = string.punctuation + string.ascii_lowercase + string.ascii_uppercase + string.digits):\n",
    "    '''Genera una contraseña segura de longitud length\n",
    "        Parámetros por clave opcionales:\n",
    "        alphabet: Cadena con caracteres a utilizar en la contraseña. Por defecto, signos de puntuación, minúsculas, mayúsculas y números'''\n",
    "    password = ''\n",
    "    for i in range(length):\n",
    "        password += secrets.choice(alphabet)\n",
    "    return password\n",
    "\n",
    "help(password_gen)"
   ]
  }
 ],
 "metadata": {
  "kernelspec": {
   "display_name": "Python 3 (ipykernel)",
   "language": "python",
   "name": "python3"
  },
  "language_info": {
   "codemirror_mode": {
    "name": "ipython",
    "version": 3
   },
   "file_extension": ".py",
   "mimetype": "text/x-python",
   "name": "python",
   "nbconvert_exporter": "python",
   "pygments_lexer": "ipython3",
   "version": "3.10.8"
  },
  "orig_nbformat": 4,
  "vscode": {
   "interpreter": {
    "hash": "148bc2fe2ce836d1207444959a10972eb542baaac3c074ca73e8aeb656ed9f05"
   }
  }
 },
 "nbformat": 4,
 "nbformat_minor": 2
}
