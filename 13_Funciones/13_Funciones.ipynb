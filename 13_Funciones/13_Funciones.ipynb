{
 "cells": [
  {
   "attachments": {},
   "cell_type": "markdown",
   "metadata": {},
   "source": [
    "# 📗 Lección 13: Funciones\n",
    "\n",
    "## Definición\n",
    "\n",
    "Una función es un bloque reutilizable de código o sentencias de programación diseñado para realizar una determinada tarea, con un nombre para poder ser invocado. Para definir o declarar una función, Python proporciona la palabra reservada *def*. El bloque de código únicamente se ejecuta si la función es llamada (no cuando se declara/define)."
   ]
  },
  {
   "cell_type": "markdown",
   "metadata": {},
   "source": [
    "## Librería estándar de Python\n",
    "\n",
    "La [biblioteca estándar](https://docs.python.org/es/3.10/library/index.html) de Python es muy amplia, y ofrece una serie de módulos con funciones incorporadas (built-in) y una colección de módulos con otras funciones.\n",
    "\n",
    "### Funciones built-in (incorporadas)\n",
    "\n",
    "Python proporciona una serie de [funciones integradas](https://docs.python.org/3.10/library/functions.html) importantes que podemos usar sin necesidad de proporcionar la definición de la función. Los creadores de Python escribieron un conjunto de funciones para resolver problemas comunes y las incluyeron en Python para que las utilicemos.\n",
    "### Otros módulos de la librería estándar de python\n",
    "\n",
    "Son módulos que proveen soluciones estandarizadas para los diversos problemas que pueden ocurrir en el día a día en la programación. Algunos de éstos módulos están diseñados explícitamente para alentar y reforzar la portabilidad de los programas en Python abstrayendo especificidades de las plataformas para lograr APIs neutrales a la plataforma.\n",
    "\n",
    "- Procesamiento de cadenas de texto: *strings*, *re*, ...\n",
    "- Tratamiento de datos en bytes: *struct*, *codecs*.\n",
    "- Otros tipos de datos: *datetime*, *collections*, *enum*, ...\n",
    "- Módulos numéricos y matemáticos: *numbers*, *math*, *random*, *statistics*, ...\n",
    "- Acceso a archivos y directorios: *pathlib*, *os.path*, *shutil*, ...\n",
    "- Persistencia de datos: *pickle*, *sqlite3*, ...\n",
    "- Compresión y archivo: *zlib*, *gzip*, *bz2*, *zipfile*, *tarfile*, ...\n",
    "- Formatos de archivo: *csv*, *configparser*, ...\n",
    "- Criptografía: *hashlib*, *hmac*, *secrets*.\n",
    "- Servicios genéricos del SO: *so*, *io*, *time*, *argparse*, *logging*, ...\n",
    "- Ejecución concurrente: *threading*, *subprocess*, ...\n",
    "- Redes: *socket*, *ssl*, *asyncio*, ...\n",
    "- Datos en internet: *email*, *json*, *base64*, *mimetypes*, ...\n",
    "- Proceso de formatos de marcado estructurado: *xml*, *html*, ...\n",
    "- Protocolos y soporte de internet: *urllib*, *httpserver*, *ftplib*, ...\n",
    "- Interfaces gráficas de usuario: *tkinter*, ...\n",
    "- Empaquetado y distribución de software: *distutils*, *venv*, *zipapp*, ...\n",
    "- Servicios específicos de Windows y Unix\n",
    "- ...\n",
    "\n",
    "\n",
    "\n",
    "\n",
    "\n"
   ]
  },
  {
   "cell_type": "code",
   "execution_count": 6,
   "metadata": {},
   "outputs": [
    {
     "name": "stdout",
     "output_type": "stream",
     "text": [
      "M*k9k&P/?^4aD7@|.$OW\n",
      "(\\\"SuWO\\Eh{#(2vNjlkU\n"
     ]
    }
   ],
   "source": [
    "# Ejemplos utilizando la librería estándar de python\n",
    "\n",
    "import random, string\n",
    "\n",
    "## Generando contraseñas\n",
    "\n",
    "length = 20\n",
    "password = ''\n",
    "for i in range(length):\n",
    "    password += random.choice(string.punctuation + string.ascii_lowercase + string.ascii_uppercase + string.digits)\n",
    "\n",
    "print(password)\n",
    "\n",
    "## Generando contraseñas con más aleatoriedad\n",
    "import secrets\n",
    "length = 20\n",
    "password = ''\n",
    "for i in range(length):\n",
    "    password += secrets.choice(string.punctuation + string.ascii_lowercase + string.ascii_uppercase + string.digits)\n",
    "\n",
    "print(password)\n",
    "\n"
   ]
  },
  {
   "cell_type": "markdown",
   "metadata": {},
   "source": [
    "## Declarar y llamar funciones\n",
    "\n",
    "- Cuando se crea o define el comportamiento de una función, se está **declarando** la función.\n",
    "- Para utilizar una función hay que **llamarla** o **invocarla**.\n",
    "\n",
    "```python\n",
    "# sintaxis en pseudocódigo\n",
    "\n",
    "# Declarar una función\n",
    "def nombre_funcion():\n",
    "    haz esto\n",
    "    haz esto también \n",
    "    haz esto también\n",
    "\n",
    "# Llamar a la función\n",
    "nombre_funcion()\n",
    "```\n",
    "\n",
    "📝 **Nota:** Las funciones se pueden declarar con parámetros o sin ellos."
   ]
  },
  {
   "cell_type": "code",
   "execution_count": 11,
   "metadata": {},
   "outputs": [
    {
     "name": "stdout",
     "output_type": "stream",
     "text": [
      "El valor de a es 0\n",
      "El valor de a es 1\n",
      "El valor de a es 2\n",
      "El valor de a es 3\n",
      "El valor de a es 4\n",
      "Fin del bucle While\n",
      "\n",
      "\n",
      "El valor de a es 0\n",
      "El valor de a es 1\n",
      "El valor de a es 2\n",
      "El valor de a es 3\n",
      "El valor de a es 4\n",
      "El valor de a es 5\n",
      "El valor de a es 6\n",
      "El valor de a es 7\n",
      "El valor de a es 8\n",
      "El valor de a es 9\n"
     ]
    }
   ],
   "source": [
    "# Bucles While \n",
    "\n",
    "a = 0\n",
    "while a < 5:\n",
    "    print(f'El valor de a es {a}')\n",
    "    a = a + 1   # En los bucles While hay que actualizar la condición para no caer en un bucle infinito.\n",
    "print(f'Fin del bucle While\\n\\n')\n",
    "\n",
    "a = 0\n",
    "while a < 10:\n",
    "    print(f'El valor de a es {a}')\n",
    "    a+= 1   # Otra forma de actualizar la variable del bucle\n"
   ]
  },
  {
   "cell_type": "markdown",
   "metadata": {},
   "source": [
    "## Modificando el comportamiento de los bucles con *break* y *continue*\n",
    "\n",
    "En ocasiones el programador no sabe anticipadamente cuántas veces tiene que repetirse la iteración. En ese caso, puede utilizarse de forma controlada un bucle infinito que será detenido cuando se cumpla otra condición utilizando *break*.\n",
    "\n",
    "```python\n",
    "# pseudocódigo\n",
    "while condicion:\n",
    "    haz esto\n",
    "    if otra_condicion:\n",
    "        break\n",
    "```"
   ]
  },
  {
   "cell_type": "code",
   "execution_count": 12,
   "metadata": {},
   "outputs": [],
   "source": [
    "# Modificando el comportamiento de los bucles con break y continúe\n",
    "\n",
    "while True:\n",
    "    cmd = input(\">\")\n",
    "    if cmd == \"exit\":\n",
    "        break\n",
    "    print(cmd)"
   ]
  },
  {
   "cell_type": "markdown",
   "metadata": {},
   "source": [
    "A veces te encuentras en una iteración de un bucle y deseas finalizar la iteración actual y pasar de inmediato a la siguiente iteración. En ese caso, puedes usar la instrucción *continue* para saltar a la siguiente iteración sin terminar el cuerpo del bucle para la iteración actual.\n",
    "\n",
    "```python\n",
    " # pseudocódigo\n",
    "while condicion:\n",
    "    haz esto\n",
    "    if otra_condicion:\n",
    "        continue\n",
    "    haz esto otro   # Esta parte no se ejecuta en las iteraciones en las que otra_condicion sea verdadero\n",
    "```"
   ]
  },
  {
   "cell_type": "code",
   "execution_count": 13,
   "metadata": {},
   "outputs": [],
   "source": [
    "# Modificando el comportamiento de los bucles con break y continúe\n",
    "\n",
    "while True:\n",
    "    cmd = input(\">\")\n",
    "    if cmd.startswith(\"#\"):\n",
    "        continue\n",
    "    if cmd == \"exit\":\n",
    "        break\n",
    "    print(cmd)"
   ]
  },
  {
   "cell_type": "markdown",
   "metadata": {},
   "source": [
    "## Bucles *For*\n",
    "\n",
    "- Se utiliza para iterar sobre una secuencia de elementos de un iterable (lista, tupla, diccionario y otros). Conceptualmente es similar a otros lenguajes de programación, pero la sintaxis y forma de utilizarlo es ligeramente distinta.\n",
    "\n",
    "```python\n",
    "for elemento in iterable:\n",
    "    haz esto\n",
    "    y esto\n",
    "    y esto otro\n",
    "    y se puede acceder al elemento o modificarlo (si el objeto es mutable)\n",
    "```"
   ]
  },
  {
   "cell_type": "code",
   "execution_count": 37,
   "metadata": {},
   "outputs": [
    {
     "name": "stdout",
     "output_type": "stream",
     "text": [
      "Feliz Día de la Hipanidad, Pedro\n",
      "Feliz Día de la Hipanidad, Arturo\n",
      "Feliz Día de la Hipanidad, María José\n",
      "Feliz Día de la Hipanidad, José Luis\n",
      "Feliz Día de la Hipanidad, Enrique\n",
      "0: Pedro\n",
      "1: Arturo\n",
      "2: María José\n",
      "3: José Luis\n",
      "4: Enrique\n",
      "1\n",
      "4\n",
      "5\n",
      "7\n",
      "8\n",
      "10\n",
      "P\n",
      "y\n",
      "t\n",
      "h\n",
      "o\n",
      "n\n",
      "!\n",
      "P\n",
      "y\n",
      "t\n",
      "h\n",
      "o\n",
      "n\n",
      "!\n"
     ]
    }
   ],
   "source": [
    "# Bucles For\n",
    "\n",
    "# Bucles for en una lista\n",
    "amigos = [\"Pedro\", \"Arturo\", \"María José\", \"José Luis\", \"Enrique\"]\n",
    "\n",
    "for amigo in amigos:\n",
    "    print(f\"Feliz Día de la Hipanidad, {amigo}\")\n",
    "\n",
    "\n",
    "# Bucles for con enumerate\n",
    "for i,amigo in enumerate(amigos):\n",
    "    print(f'{i}: {amigo}')\n",
    "\n",
    "\n",
    "# Bucles for en una tupla\n",
    "tpl = (1,4,5,7,8,10)\n",
    "\n",
    "for n in tpl:\n",
    "    print(f\"{n}\")\n",
    "\n",
    "# Bucles for en una cadena de texto\n",
    "cadena = \"Python!\"\n",
    "\n",
    "for letra in cadena:\n",
    "    print(letra)\n",
    "\n",
    "# La forma menos pythonica de hacerlo:\n",
    "for i in range(len(cadena)):\n",
    "    print(cadena[i])\n"
   ]
  },
  {
   "cell_type": "code",
   "execution_count": 21,
   "metadata": {},
   "outputs": [
    {
     "name": "stdout",
     "output_type": "stream",
     "text": [
      "nombre\n",
      "apellido\n",
      "edad\n",
      "país\n",
      "casado\n",
      "conocimientos\n",
      "direccion\n",
      "Manuel\n",
      "Ejemplar\n",
      "26\n",
      "España\n",
      "True\n",
      "['JavaScript', 'React', 'Node', 'MongoDB', 'Python']\n",
      "{'calle': 'De la protección de datos', 'cp': '28000'}\n",
      "La clave nombre tiene el valor Manuel\n",
      "La clave apellido tiene el valor Ejemplar\n",
      "La clave edad tiene el valor 26\n",
      "La clave país tiene el valor España\n",
      "La clave casado tiene el valor True\n",
      "La clave conocimientos tiene el valor ['JavaScript', 'React', 'Node', 'MongoDB', 'Python']\n",
      "La clave direccion tiene el valor {'calle': 'De la protección de datos', 'cp': '28000'}\n"
     ]
    }
   ],
   "source": [
    "# Bucles for en diccionarios\n",
    "\n",
    "persona = {\n",
    "    'nombre':'Manuel',\n",
    "    'apellido':'Ejemplar',\n",
    "    'edad':26,\n",
    "    'país':'España',\n",
    "    'casado':True,\n",
    "    'conocimientos':['JavaScript', 'React', 'Node', 'MongoDB', 'Python'],\n",
    "    'direccion':{\n",
    "        'calle':'De la protección de datos',\n",
    "        'cp':'28000'\n",
    "    }\n",
    "    }\n",
    "\n",
    "for clave in persona:\n",
    "    print(clave)\n",
    "\n",
    "for valor in persona.values():\n",
    "    print(valor)\n",
    "\n",
    "# De forma mas eficiente se puede acceder a claves y valores en un diccionario\n",
    "\n",
    "for clave,valor in persona.items():\n",
    "    print(f'La clave {clave} tiene el valor {valor}')"
   ]
  },
  {
   "cell_type": "markdown",
   "metadata": {},
   "source": [
    "## *Break* y *Continue* en bucles *For*\n",
    "\n",
    "- *break* y *continue* se pueden utilizar también en bucles *for*. Se utilizan de forma similar a cómo se utilizan en bucles *while*\n",
    "\n",
    "```python\n",
    "# pseudocódigo\n",
    "for elemento in iterable:\n",
    "    haz esto\n",
    "    if condicion:\n",
    "        break\n",
    "```\n",
    "\n",
    "```python\n",
    "# pseudocódigo\n",
    "for elemento in iterable:\n",
    "    haz esto\n",
    "    if condicion:\n",
    "        continue\n",
    "    haz también esto si no se cumple la condición\n",
    "```"
   ]
  },
  {
   "cell_type": "markdown",
   "metadata": {},
   "source": [
    "## La función *range* y bucles *For*\n",
    "\n",
    "La función *range()* se utiliza para crear listas de números. La función *range(inicio, fin, incremento)* toma tres parámetros: inicio, fin e incremento. Por defecto empieza en 0 y el incremento es 1. La secuencia range necesita al menos 1 argumento (end).\n",
    "\n",
    "La función *range* se puede utilizar para construir bucles *for* similares a los que se utilizan en otros lenguajes.\n",
    " "
   ]
  },
  {
   "cell_type": "code",
   "execution_count": 24,
   "metadata": {},
   "outputs": [
    {
     "name": "stdout",
     "output_type": "stream",
     "text": [
      "range(0, 10)\n",
      "<class 'range'>\n"
     ]
    }
   ],
   "source": [
    "# La función range y bucles for\n",
    "\n",
    "numeros = range(10)\n",
    "print(numeros)\n",
    "print(type(numeros))"
   ]
  },
  {
   "cell_type": "code",
   "execution_count": 25,
   "metadata": {},
   "outputs": [
    {
     "name": "stdout",
     "output_type": "stream",
     "text": [
      "0\n",
      "1\n",
      "2\n",
      "3\n",
      "4\n",
      "5\n",
      "6\n",
      "7\n",
      "8\n",
      "9\n"
     ]
    }
   ],
   "source": [
    "for i in range(10):\n",
    "    print(i)"
   ]
  },
  {
   "cell_type": "markdown",
   "metadata": {},
   "source": [
    "## Bucles y condicionales anidadas\n",
    "\n",
    "Al igual que los condicionales, los bucles *for* se pueden anidar."
   ]
  },
  {
   "cell_type": "code",
   "execution_count": 34,
   "metadata": {},
   "outputs": [
    {
     "name": "stdout",
     "output_type": "stream",
     "text": [
      "Nombre:\n",
      "\tManuel\n",
      "Apellido:\n",
      "\tEjemplar\n",
      "Edad:\n",
      "\t26\n",
      "País:\n",
      "\tEspaña\n",
      "Casado:\n",
      "\tTrue\n",
      "Conocimientos:\n",
      "\t* JavaScript\n",
      "\t* React\n",
      "\t* Node\n",
      "\t* MongoDB\n",
      "\t* Python\n",
      "Direccion:\n",
      "\t Calle: De la protección de datos, C.P.: 28000\n"
     ]
    }
   ],
   "source": [
    "# Bucles anidados\n",
    "\n",
    "for clave,valor in persona.items():\n",
    "    print(f'{clave.capitalize()}:')\n",
    "    if clave == \"conocimientos\":\n",
    "        for c in valor:\n",
    "            print(f'\\t* {c}')\n",
    "    elif clave == \"direccion\":\n",
    "        print(f\"\\t Calle: {valor['calle']}, C.P.: {valor['cp']}\")\n",
    "    else:\n",
    "        print(f'\\t{valor}')"
   ]
  },
  {
   "cell_type": "markdown",
   "metadata": {},
   "source": [
    "## For Else\n",
    "\n",
    "- Se utiliza para ejecutar códido después de la última interación. No se ejecuta tras un *break*.\n"
   ]
  },
  {
   "cell_type": "code",
   "execution_count": 40,
   "metadata": {},
   "outputs": [
    {
     "name": "stdout",
     "output_type": "stream",
     "text": [
      "Iteración: 0\n",
      "Iteración: 1\n",
      "Iteración: 2\n",
      "Iteración: 3\n",
      "Iteración: 4\n",
      "Iteración: 5\n",
      "Iteración: 6\n",
      "Iteración: 7\n",
      "Iteración: 8\n",
      "Iteración: 9\n",
      "Ejecución finalizada en iteración: 9\n",
      "Iteración: 0\n",
      "Iteración: 1\n",
      "Iteración: 2\n",
      "Iteración: 3\n",
      "Iteración: 4\n",
      "Iteración: 5\n"
     ]
    }
   ],
   "source": [
    "# For Else\n",
    "\n",
    "for i in range(10):\n",
    "    print(f'Iteración: {i}')\n",
    "else:\n",
    "    print(f'Ejecución finalizada en iteración: {i}')\n",
    "\n",
    "\n",
    "for i in range(10):\n",
    "    print(f'Iteración: {i}')\n",
    "    if i == 5:\n",
    "        break\n",
    "else:\n",
    "    print(f'Ejecución finalizada en iteración: {i}')\n",
    "\n"
   ]
  },
  {
   "cell_type": "markdown",
   "metadata": {},
   "source": [
    "## Pass\n",
    "\n",
    "En python cuando se requiere una sentencia (después del punto y coma), pero no queremos ejecutar ningún código allí, podemos escribir la palabra *pass* para evitar errores de sintaxis. También podemos utilizarlo como un marcador de posición, para futuras declaraciones."
   ]
  },
  {
   "cell_type": "code",
   "execution_count": 41,
   "metadata": {},
   "outputs": [],
   "source": [
    "for amigo in amigos:\n",
    "    pass"
   ]
  },
  {
   "cell_type": "code",
   "execution_count": null,
   "metadata": {},
   "outputs": [],
   "source": []
  }
 ],
 "metadata": {
  "kernelspec": {
   "display_name": "Python 3 (ipykernel)",
   "language": "python",
   "name": "python3"
  },
  "language_info": {
   "codemirror_mode": {
    "name": "ipython",
    "version": 3
   },
   "file_extension": ".py",
   "mimetype": "text/x-python",
   "name": "python",
   "nbconvert_exporter": "python",
   "pygments_lexer": "ipython3",
   "version": "3.10.8"
  },
  "orig_nbformat": 4,
  "vscode": {
   "interpreter": {
    "hash": "148bc2fe2ce836d1207444959a10972eb542baaac3c074ca73e8aeb656ed9f05"
   }
  }
 },
 "nbformat": 4,
 "nbformat_minor": 2
}
