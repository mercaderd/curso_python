{
 "cells": [
  {
   "attachments": {},
   "cell_type": "markdown",
   "metadata": {},
   "source": [
    "# 📗 Lección 08: Tuplas\n",
    "\n",
    "## Definición\n",
    "\n",
    "Hay cuatro estructuras de datos compuestas en Python: *Listas*, *Tuplas*, *Conjuntos* y *Diccionarios*.\n",
    "\n",
    "**Las tuplas** :\n",
    "- Se utilizan para agrupar valores.\n",
    "- Son inmutables, una vez creadas no se pueden modificar, ni añadir o quitar elementos.\n",
    "- Se pueden ordenar.\n",
    "- Permite valores duplicados.\n",
    "- Pueden estar vacías.\n",
    "- Puede contener valores de distintos tipos, es decir cualquier tipo de objeto.\n",
    "\n",
    "> 📝 **Nota:** Se puede pensar que una tupla es una lista que no se puede cambiar. INMUTABLE. Por eso, las tuplas tienen muy pocos métodos.\n",
    "\n",
    "Se pueden crear usando el contructor tuple() o con paréntesis ()."
   ]
  },
  {
   "cell_type": "code",
   "execution_count": 39,
   "metadata": {},
   "outputs": [
    {
     "name": "stdout",
     "output_type": "stream",
     "text": [
      "()\n",
      "()\n",
      "<class 'tuple'>\n",
      "<class 'tuple'>\n",
      "(3, 4, 5, 6, 6, 6, 6)\n",
      "('queso', 'plátano', '🎈', 35, 44, 2.2, None, 'uno')\n",
      "<class 'tuple'>\n",
      "<class 'tuple'>\n"
     ]
    }
   ],
   "source": [
    "# Creación de tuplas vacías\n",
    "\n",
    "mi_tupla = () # Esto es una tupla vacía\n",
    "mi_otra_tupla = tuple() # Esto es otra tupla vacía\n",
    "\n",
    "print(mi_tupla)\n",
    "print(mi_otra_tupla)\n",
    "\n",
    "print(type(mi_tupla))\n",
    "print(type(mi_otra_tupla))\n",
    "\n",
    "# Creación de tuplas con valores iniciales\n",
    "\n",
    "mi_tupla = (3,4,5,6, 6, 6, 6) # Pueden tener elementos repetidos. No se pueden cambiar, pero sí se pueden sobreescribir.\n",
    "mi_otra_tupla = (\"queso\", \"plátano\", \"🎈\", 35, 44, 2.2, None, \"uno\") # Puenden contener elementos de distinto tipo\n",
    "\n",
    "print(mi_tupla)\n",
    "print(mi_otra_tupla)\n",
    "\n",
    "print(type(mi_tupla))\n",
    "print(type(mi_otra_tupla))"
   ]
  },
  {
   "cell_type": "markdown",
   "metadata": {},
   "source": [
    "Se puede utilizar la función *len()* para saber el número de elementos de una tupla."
   ]
  },
  {
   "cell_type": "code",
   "execution_count": 40,
   "metadata": {},
   "outputs": [
    {
     "name": "stdout",
     "output_type": "stream",
     "text": [
      "Tupla: (3, 4, 5, 6, 6, 6, 6)\n",
      "Número de elementos: 7\n",
      "Tupla: ('queso', 'plátano', '🎈', 35, 44, 2.2, None, 'uno')\n",
      "Número de elementos: 8\n"
     ]
    }
   ],
   "source": [
    "# Número de elementos de una tupla\n",
    "\n",
    "print(\"Tupla:\", mi_tupla)\n",
    "print(f\"Número de elementos: {len(mi_tupla)}\")\n",
    "\n",
    "print(\"Tupla:\", mi_otra_tupla)\n",
    "print(f\"Número de elementos: {len(mi_otra_tupla)}\")\n"
   ]
  },
  {
   "cell_type": "markdown",
   "metadata": {},
   "source": [
    "## Accediendo a los elementos de una tupla\n",
    "\n",
    "- Se puede acceder a los elementos  mediante el índice de cada uno de ellos. \n",
    "- Al igual que en las cadenas el índice del primer elemento es 0.\n",
    "- Se pueden utilizar índices negativos."
   ]
  },
  {
   "cell_type": "code",
   "execution_count": 41,
   "metadata": {},
   "outputs": [
    {
     "name": "stdout",
     "output_type": "stream",
     "text": [
      "Tupla: (3, 4, 5, 6, 6, 6, 6)\n",
      "El primer elemento de la tupla es 3\n",
      "El último elemento de la tupla es 6\n",
      "Tupla: ('queso', 'plátano', '🎈', 35, 44, 2.2, None, 'uno')\n",
      "El tercer elemento de la tupla es 🎈\n"
     ]
    }
   ],
   "source": [
    "# Accediendo a los elementos de una tupla\n",
    "\n",
    "primer_elemento = mi_tupla[0]\n",
    "ultimo_elemento = mi_tupla[-1] # Se pueden utilizar índices negativos\n",
    "\n",
    "print(f\"Tupla: {mi_tupla}\")\n",
    "print(f\"El primer elemento de la tupla es {primer_elemento}\")\n",
    "print(f\"El último elemento de la tupla es {ultimo_elemento}\")\n",
    "\n",
    "tercer_elemento = mi_otra_tupla[2]\n",
    "\n",
    "print(f\"Tupla: {mi_otra_tupla}\")\n",
    "print(f\"El tercer elemento de la tupla es {tercer_elemento}\")\n"
   ]
  },
  {
   "cell_type": "markdown",
   "metadata": {},
   "source": [
    "- Se pueden desempaquetar los elementos.\n",
    "> 📝 **Nota:** **NO** se pueden cambiar los elementos de una tupla."
   ]
  },
  {
   "cell_type": "code",
   "execution_count": 42,
   "metadata": {},
   "outputs": [
    {
     "name": "stdout",
     "output_type": "stream",
     "text": [
      "Tupla inicial: ('queso', 'plátano', '🎈', 35, 44, 2.2, None, 'uno')\n",
      "El tercer elemento de la tupla es 🎈\n",
      "El tercer elemento de la tupla es 🎈\n"
     ]
    }
   ],
   "source": [
    "# Desempaquetando elementos de una tupla\n",
    "print(f\"Tupla inicial: {mi_otra_tupla}\")\n",
    "primero, segundo, tercero, cuarto, quinto, sexto, septimo, octavo = mi_otra_tupla\n",
    "print(f\"El tercer elemento de la tupla es {tercero}\")\n",
    "\n",
    "# No se pueden cambiar los elementos de una tupla\n",
    "\n",
    "#mi_otra_tupla[2]=\"globo\" # Esto da ERROR\n",
    "#print(f\"tupla cambiada: {mi_otra_tupla}\")\n",
    "primero, segundo, tercero, cuarto, quinto, sexto, septimo, octavo = mi_otra_tupla\n",
    "print(f\"El tercer elemento de la tupla es {tercero}\")\n"
   ]
  },
  {
   "cell_type": "markdown",
   "metadata": {},
   "source": [
    "## Accediendo a partes de una tupla - Slicing\n",
    "\n",
    "- Se puede acceder u obtener un subconjunto de los elementos de una tupla mediante slicing. Igual que con las cadenas, utilizando [*inicial*:*final*:*pasos*].\n",
    "- Por defecto, *inicial* será 0 (el primer elemento), *final* será -1 (el último elemento) y *pasos* será 1.\n",
    "- Se pueden utilizar índices negativos.\n"
   ]
  },
  {
   "cell_type": "code",
   "execution_count": 43,
   "metadata": {},
   "outputs": [
    {
     "name": "stdout",
     "output_type": "stream",
     "text": [
      "La tupla completa es: ('queso', 'plátano', '🎈', 35, 44, 2.2, None, 'uno')\n",
      "Dos primeros elementos: ('queso', 'plátano')\n",
      "Todos los elementos desde el tercero hasta el final: ('🎈', 35, 44, 2.2, None, 'uno')\n",
      "Uno de cada dos elementos desde el primero: ('queso', '🎈', 44, None)\n",
      "Accediendo a la tupla invertida: ('uno', None, 2.2, 44, 35, '🎈', 'plátano', 'queso')\n"
     ]
    }
   ],
   "source": [
    "# Accediendo a partes de una tupla - Slicing\n",
    "\n",
    "print(f\"La tupla completa es: {mi_otra_tupla}\")\n",
    "\n",
    "print(f\"Dos primeros elementos: {mi_otra_tupla[:2]}\") \n",
    "print(f\"Todos los elementos desde el tercero hasta el final: {mi_otra_tupla[2:]}\")\n",
    "print(f\"Uno de cada dos elementos desde el primero: {mi_otra_tupla[::2]}\")\n",
    "print(f\"Accediendo a la tupla invertida: {mi_otra_tupla[::-1]}\")\n",
    "\n",
    "# NO se puede cambiar una parte de la_tupla\n",
    "# mi_otra_tupla[:2] = [\"uno\", \"dos\"]  # Esto da ERROR\n",
    "# print(f\"La tupla modificada es: {mi_otra_tupla}\")"
   ]
  },
  {
   "cell_type": "markdown",
   "metadata": {},
   "source": [
    "## De tupla a lista y viceversa\n",
    "\n",
    "Se puede crear una lista que contenga los elementos de una tupla y veceversa. Se utilizan los constructores *list()* o *tuple()* según se necesite."
   ]
  },
  {
   "cell_type": "code",
   "execution_count": 44,
   "metadata": {},
   "outputs": [
    {
     "name": "stdout",
     "output_type": "stream",
     "text": [
      "Esto es una tupla: ('queso', 'plátano', '🎈', 35, 44, 2.2, None, 'uno')\n",
      "Esto es una lista: ['queso', 'plátano', '🎈', 35, 44, 2.2, None, 'uno']\n",
      "<class 'list'>\n",
      "<class 'tuple'>\n"
     ]
    }
   ],
   "source": [
    "# De tupla a lista y viceversa\n",
    "\n",
    "print(f\"Esto es una tupla: {mi_otra_tupla}\")\n",
    "mi_otra_lista = list(mi_otra_tupla) # De tupla a lista\n",
    "print(f\"Esto es una lista: {mi_otra_lista}\")\n",
    "print(type(mi_otra_lista))\n",
    "\n",
    "mi_otra_nueva_tupla = tuple(mi_otra_lista) # De lista a tupla\n",
    "print(type(mi_otra_nueva_tupla))\n",
    "\n"
   ]
  },
  {
   "cell_type": "markdown",
   "metadata": {},
   "source": [
    "## Comprobando si un elemento está en una tupla\n",
    "- Se puede utilizar el operador *in*."
   ]
  },
  {
   "cell_type": "code",
   "execution_count": 45,
   "metadata": {},
   "outputs": [
    {
     "name": "stdout",
     "output_type": "stream",
     "text": [
      "False\n",
      "True\n",
      "True\n",
      "True\n",
      "False\n"
     ]
    }
   ],
   "source": [
    "# Comprobando si un elemento está en la tupla\n",
    "\n",
    "globo_en_tupla = \"globo\" in mi_otra_tupla\n",
    "print(globo_en_tupla)\n",
    "\n",
    "none_en_tupla = None in mi_otra_tupla\n",
    "print(none_en_tupla)\n",
    "\n",
    "num_en_tupla = 35 in mi_otra_tupla\n",
    "print(num_en_tupla)\n",
    "\n",
    "num_en_tupla = 2.2 in mi_otra_tupla\n",
    "print(num_en_tupla)\n",
    "\n",
    "cabra_en_tupla = \"cabra\" in mi_otra_tupla\n",
    "print(cabra_en_tupla)\n"
   ]
  },
  {
   "cell_type": "markdown",
   "metadata": {},
   "source": [
    "## Concatenar tuplas\n",
    "\n",
    "- Se pueden concatenar tuplas utilizando el operador *+*."
   ]
  },
  {
   "cell_type": "code",
   "execution_count": 46,
   "metadata": {},
   "outputs": [
    {
     "name": "stdout",
     "output_type": "stream",
     "text": [
      "Mi tupla completa es: (3, 4, 5, 6, 6, 6, 6, 'queso', 'plátano', '🎈', 35, 44, 2.2, None, 'uno')\n"
     ]
    }
   ],
   "source": [
    "# Concatenar tuplas\n",
    "\n",
    "mi_tupla_completa = mi_tupla + mi_otra_tupla\n",
    "print(f\"Mi tupla completa es: {mi_tupla_completa}\")"
   ]
  },
  {
   "cell_type": "markdown",
   "metadata": {},
   "source": [
    "## Eliminando una tupla\n",
    "\n",
    "No se pueden eliminar elementos individuales, pero sí se puede eliminar/borrar una tupla completa utilizando *del*."
   ]
  },
  {
   "cell_type": "code",
   "execution_count": 47,
   "metadata": {},
   "outputs": [],
   "source": [
    "# Eliminar una tupla\n",
    "\n",
    "del mi_tupla_completa\n",
    "\n",
    "#del mi_tupla_completa # Ejecutarlo una segunda vez daría error porque ya no está definida esa tupla"
   ]
  },
  {
   "cell_type": "code",
   "execution_count": null,
   "metadata": {},
   "outputs": [],
   "source": []
  }
 ],
 "metadata": {
  "kernelspec": {
   "display_name": "Python 3 (ipykernel)",
   "language": "python",
   "name": "python3"
  },
  "language_info": {
   "codemirror_mode": {
    "name": "ipython",
    "version": 3
   },
   "file_extension": ".py",
   "mimetype": "text/x-python",
   "name": "python",
   "nbconvert_exporter": "python",
   "pygments_lexer": "ipython3",
   "version": "3.10.8"
  },
  "orig_nbformat": 4,
  "vscode": {
   "interpreter": {
    "hash": "148bc2fe2ce836d1207444959a10972eb542baaac3c074ca73e8aeb656ed9f05"
   }
  }
 },
 "nbformat": 4,
 "nbformat_minor": 2
}
