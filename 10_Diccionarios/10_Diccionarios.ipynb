{
 "cells": [
  {
   "attachments": {},
   "cell_type": "markdown",
   "metadata": {},
   "source": [
    "# 📗 Lección 10: Diccionarios\n",
    "\n",
    "## Definición\n",
    "\n",
    "Hay cuatro estructuras de datos compuestas en Python: *Listas*, *Tuplas*, *Conjuntos* y *Diccionarios*.\n",
    "\n",
    "**Los diccionarios** :\n",
    "- Son una colección de elementos organizados por pares clave, valor.\n",
    "- Son mutables, se pueden añadir y quitar elementos.\n",
    "- Estan ordenados desde Python 3.6.\n",
    "- Pueden estar vacíos.\n",
    "- Los valores pueden ser elementos de distintos tipos, es decir cualquier tipo de objeto.\n",
    "\n",
    "Se pueden crear vacíos con el contructor dict() o con llaves {}, o con elementos utilizando llaves {}.\n",
    "\n",
    " 📝 **Nota:** En Python las llaves {} se utilizan para conjuntos y diccionarios. Unas llaves sin elementos dentro creará un diccionario y no un conjunto."
   ]
  },
  {
   "cell_type": "code",
   "execution_count": 1,
   "metadata": {},
   "outputs": [
    {
     "name": "stdout",
     "output_type": "stream",
     "text": [
      "{}\n",
      "{}\n",
      "<class 'dict'>\n",
      "<class 'dict'>\n",
      "{'clave1': 'valor1', 'clave2': '🎈', 'clave3': 3}\n",
      "<class 'dict'>\n",
      "{'nombre': 'Manuel', 'apellido': 'Ejemplar', 'edad': 26, 'país': 'España', 'casado': True, 'conocimientos': ['JavaScript', 'React', 'Node', 'MongoDB', 'Python'], 'direccion': {'calle': 'De la protección de datos', 'cp': '28000'}}\n"
     ]
    }
   ],
   "source": [
    "# Creación de diccionarios\n",
    "\n",
    "diccionario1 = dict() # Esto es un diccionario vacio.\n",
    "diccionario2 = {} # # Esto es otro diccionario vacío.\n",
    "\n",
    "print(diccionario1)\n",
    "print(diccionario2)\n",
    "\n",
    "print(type(diccionario1))\n",
    "print(type(diccionario2))\n",
    "\n",
    "# Creación de diccionarios con valores iniciales\n",
    "\n",
    "diccionario3 = {\"clave1\": \"valor1\", \"clave2\": \"🎈\", \"clave3\": 3}  # Los valores pueden contener cualquier tipo de objetos\n",
    "\n",
    "print(diccionario3)\n",
    "\n",
    "print(type(diccionario3)) \n",
    "\n",
    "persona = {\n",
    "    'nombre':'Manuel',\n",
    "    'apellido':'Ejemplar',\n",
    "    'edad':26,\n",
    "    'país':'España',\n",
    "    'casado':True,\n",
    "    'conocimientos':['JavaScript', 'React', 'Node', 'MongoDB', 'Python'],\n",
    "    'direccion':{\n",
    "        'calle':'De la protección de datos',\n",
    "        'cp':'28000'\n",
    "    }\n",
    "    }\n",
    "\n",
    "print(persona)\n"
   ]
  },
  {
   "cell_type": "markdown",
   "metadata": {},
   "source": [
    "Se puede utilizar la función built-in *len()* para saber el número de pares clave,valor de un diccionario."
   ]
  },
  {
   "cell_type": "code",
   "execution_count": 2,
   "metadata": {},
   "outputs": [
    {
     "name": "stdout",
     "output_type": "stream",
     "text": [
      "Diccionario: {'clave1': 'valor1', 'clave2': '🎈', 'clave3': 3}\n",
      "Número de pares clave,valor: 3\n",
      "Persona {'nombre': 'Manuel', 'apellido': 'Ejemplar', 'edad': 26, 'país': 'España', 'casado': True, 'conocimientos': ['JavaScript', 'React', 'Node', 'MongoDB', 'Python'], 'direccion': {'calle': 'De la protección de datos', 'cp': '28000'}}\n",
      "Número de pares clave,valor: 7\n"
     ]
    }
   ],
   "source": [
    "# Número de elementos de un diccionario\n",
    "\n",
    "print(\"Diccionario:\", diccionario3)\n",
    "print(f\"Número de pares clave,valor: {len(diccionario3)}\")\n",
    "\n",
    "print(\"Persona\", persona)\n",
    "print(f\"Número de pares clave,valor: {len(persona)}\")"
   ]
  },
  {
   "cell_type": "markdown",
   "metadata": {},
   "source": [
    "## Accediendo a los elementos de un diccionario\n",
    "\n",
    "Se puede acceder a los elementos de un conjunto referenciándolos por la clave."
   ]
  },
  {
   "cell_type": "code",
   "execution_count": 3,
   "metadata": {},
   "outputs": [
    {
     "name": "stdout",
     "output_type": "stream",
     "text": [
      "valor1\n",
      "🎈\n",
      "3\n",
      "Ejemplar\n"
     ]
    }
   ],
   "source": [
    "# Accediendo a los elementos de un diccionario\n",
    "\n",
    "print(diccionario3['clave1'])\n",
    "print(diccionario3['clave2'])\n",
    "print(diccionario3['clave3'])\n",
    "\n",
    "print(persona['apellido'])"
   ]
  },
  {
   "cell_type": "markdown",
   "metadata": {},
   "source": [
    "Acceder por clave dará un error cuando la clave no existe. Para evitarlo, se puede comprobar la existencia de la clave antes de intentar acceder o utilizar el método get(), que devuelve el valor si la clave existe o *None* si la clave no existe.\n",
    "\n",
    "> 📝 **Nota:** **NoneType** es un tipo de dato especial de variable en Python cuyo único valor posible es *None*. Se puede asignar a cualquier tipo de objeto para indicar que está definido pero no tiene ningún valor."
   ]
  },
  {
   "cell_type": "code",
   "execution_count": 4,
   "metadata": {},
   "outputs": [
    {
     "name": "stdout",
     "output_type": "stream",
     "text": [
      "Manuel\n",
      "Ejemplar\n",
      "None\n"
     ]
    }
   ],
   "source": [
    "print(persona.get('nombre'))\n",
    "print(persona.get('apellido'))\n",
    "print(persona.get('hijos')) # Daría error si se intenta hacer persona['hijos']"
   ]
  },
  {
   "cell_type": "markdown",
   "metadata": {},
   "source": [
    "## Comprobando si una clave está en un diccionario\n",
    "\n",
    "- Se puede utilizar el operador *in*.\n"
   ]
  },
  {
   "cell_type": "code",
   "execution_count": 5,
   "metadata": {},
   "outputs": [
    {
     "name": "stdout",
     "output_type": "stream",
     "text": [
      "True\n",
      "False\n",
      "El apellido de esta persona es Ejemplar\n"
     ]
    }
   ],
   "source": [
    "# Comprobando si una clave está en un diccionario\n",
    "\n",
    "print('apellido' in persona)\n",
    "print('titulación' in persona)\n",
    "\n",
    "# Nos podemos ayudar de un condicional (que veremos en detalle más adelante)\n",
    "\n",
    "if 'apellido' in persona:\n",
    "    print(f\"El apellido de esta persona es {persona['apellido']}\") # Ojo con comillas dobles/simples\n",
    "\n",
    "if 'titulación' in persona:\n",
    "    print(f\"La titulación de esta persona es {persona['titulación']}\") # Ojo con comillas dobles/simples\n",
    "\n",
    "\n"
   ]
  },
  {
   "cell_type": "markdown",
   "metadata": {},
   "source": [
    "## Añadiendo o modificando elementos de un diccionario\n",
    "\n",
    "- Se pueden añadir pares clave,valor a un diccionario simplemente referenciando una nueva clave. Ej: *diccionario['nuevaclave']=nuevovalor*\n",
    "- Se puede modificar el valor asignado a una clave, referenciándola y asignando un nuevo valor. Ej: *diccionario['clave1']=nuevovalor1*\n"
   ]
  },
  {
   "cell_type": "code",
   "execution_count": 6,
   "metadata": {},
   "outputs": [
    {
     "name": "stdout",
     "output_type": "stream",
     "text": [
      "{'nombre': 'Manuel', 'apellido': 'Ejemplar', 'edad': 26, 'país': 'España', 'casado': True, 'conocimientos': ['JavaScript', 'React', 'Node', 'MongoDB', 'Python'], 'direccion': {'calle': 'De la protección de datos', 'cp': '28000'}}\n",
      "{'nombre': 'Manuel', 'apellido': 'Ejemplar', 'edad': 26, 'país': 'España', 'casado': True, 'conocimientos': ['aerodinámica', 'cálculo', 'física', 'álgebra', 'aviónica'], 'direccion': {'calle': 'De la protección de datos', 'cp': '28000'}, 'titulación': 'Ingeniero Aeroespacial'}\n"
     ]
    }
   ],
   "source": [
    "## Añadiendo o modificando elementos de un diccionario\n",
    "\n",
    "print(persona)\n",
    "persona['titulación'] = 'Ingeniero Aeroespacial'\n",
    "persona['conocimientos'] = ['aerodinámica', 'cálculo', 'física', 'álgebra', 'aviónica']\n",
    "print(persona)\n",
    "\n"
   ]
  },
  {
   "cell_type": "markdown",
   "metadata": {},
   "source": [
    "## Eliminando pares clave,valor de un diccionario\n",
    "\n",
    "- *pop(clave)*: Elimina el elemento cuya clave es *clave*.\n",
    "- *popitem()*: Elimina el último elemento y lo devuelve.\n"
   ]
  },
  {
   "cell_type": "code",
   "execution_count": 7,
   "metadata": {},
   "outputs": [
    {
     "name": "stdout",
     "output_type": "stream",
     "text": [
      "{'nombre': 'Manuel', 'apellido': 'Ejemplar', 'edad': 26, 'país': 'España', 'casado': True, 'conocimientos': ['aerodinámica', 'cálculo', 'física', 'álgebra', 'aviónica'], 'direccion': {'calle': 'De la protección de datos', 'cp': '28000'}, 'titulación': 'Ingeniero Aeroespacial'}\n",
      "{'nombre': 'Manuel', 'apellido': 'Ejemplar', 'edad': 26, 'país': 'España', 'conocimientos': ['aerodinámica', 'cálculo', 'física', 'álgebra', 'aviónica'], 'direccion': {'calle': 'De la protección de datos', 'cp': '28000'}, 'titulación': 'Ingeniero Aeroespacial'}\n",
      "{'nombre': 'Manuel', 'apellido': 'Ejemplar', 'edad': 26, 'país': 'España', 'conocimientos': ['aerodinámica', 'cálculo', 'física', 'álgebra', 'aviónica'], 'direccion': {'calle': 'De la protección de datos', 'cp': '28000'}}\n",
      "('titulación', 'Ingeniero Aeroespacial')\n"
     ]
    }
   ],
   "source": [
    "# Eliminando pares clave,valor de un diccionario\n",
    "\n",
    "print(persona)\n",
    "persona.pop('casado')\n",
    "print(persona)\n",
    "eliminado = persona.popitem()\n",
    "print(persona)\n",
    "print(eliminado)\n"
   ]
  },
  {
   "cell_type": "markdown",
   "metadata": {},
   "source": [
    "## Obteniendo una lista de elementos de un diccionario\n",
    "\n",
    "- El método *items()* devuelve una vista iterable con los elementos (pares clave,valor) del diccionario. Una colección de tuplas (clave,valor) que puede convertirse en una lista con *list()*, aunque no siempre es necesario convertirla.\n",
    "- El método *keys()* devuelve una vista iterable con las claves del diccionario. Una colección de claves que puede convertirse en una lista con *list()*, aunque no siempre es necesario convertirla.\n",
    "- El método *values()* devuelve una vista iterable con los valores del diccionario. Una colección de valores que puede convertirse en una lista con *list()*, aunque no siempre es necesario convertirla.\n"
   ]
  },
  {
   "cell_type": "code",
   "execution_count": 15,
   "metadata": {},
   "outputs": [
    {
     "name": "stdout",
     "output_type": "stream",
     "text": [
      "{'nombre': 'Manuel', 'apellido': 'Ejemplar', 'edad': 26, 'país': 'España', 'conocimientos': ['aerodinámica', 'cálculo', 'física', 'álgebra', 'aviónica'], 'direccion': {'calle': 'De la protección de datos', 'cp': '28000'}}\n",
      "<class 'dict'>\n",
      "[('nombre', 'Manuel'), ('apellido', 'Ejemplar'), ('edad', 26), ('país', 'España'), ('conocimientos', ['aerodinámica', 'cálculo', 'física', 'álgebra', 'aviónica']), ('direccion', {'calle': 'De la protección de datos', 'cp': '28000'})]\n",
      "<class 'list'>\n",
      "('apellido', 'Ejemplar')\n",
      "<class 'list'>\n",
      "['nombre', 'apellido', 'edad', 'país', 'conocimientos', 'direccion']\n",
      "<class 'list'>\n",
      "['Manuel', 'Ejemplar', 26, 'España', ['aerodinámica', 'cálculo', 'física', 'álgebra', 'aviónica'], {'calle': 'De la protección de datos', 'cp': '28000'}]\n"
     ]
    }
   ],
   "source": [
    "# Obteniendo una lista de elementos de un diccionario\n",
    "\n",
    "lista_elementos = list(persona.items())\n",
    "print(persona)\n",
    "print(type(persona))\n",
    "print(lista_elementos)\n",
    "print(type(lista_elementos))\n",
    "print(lista_elementos[1])\n",
    "\n",
    "lista_claves = list(persona.keys())\n",
    "print(type(lista_claves))\n",
    "print(lista_claves)\n",
    "\n",
    "lista_valores = list(persona.values())\n",
    "print(type(lista_valores))\n",
    "print(lista_valores)"
   ]
  },
  {
   "cell_type": "markdown",
   "metadata": {},
   "source": [
    "## Copiando un diccionario\n",
    "\n",
    "- *copy()*: Devuelve una copia del diccionario.\n",
    "\n",
    "> 📝 **Nota:** Para copiar un diccionario hay que utilizar el método *copy()*. Si se hace una asignación a otra variable no estaremos creando un nuevo diccionario sino una referencia al diccionario, y cualquer cambio en uno de los diccionarios se verá en el otro."
   ]
  },
  {
   "cell_type": "code",
   "execution_count": 27,
   "metadata": {},
   "outputs": [
    {
     "name": "stdout",
     "output_type": "stream",
     "text": [
      "Esto es persona: {'nombre': 'Manuel', 'apellido': 'Ejemplar', 'edad': 26, 'país': 'España', 'casado': True, 'conocimientos': ['JavaScript', 'React', 'Node', 'MongoDB', 'Python'], 'direccion': {'calle': 'De la protección de datos', 'cp': '28000'}}\n",
      "Esto es persona: {'nombre': 'Manuel', 'apellido': 'Ejemplar', 'edad': 26, 'país': 'España', 'casado': False, 'conocimientos': ['JavaScript', 'React', 'Node', 'MongoDB', 'Python'], 'direccion': {'calle': 'De la protección de datos', 'cp': '28000'}}\n",
      "Esto es persona: {'nombre': 'Manuel', 'apellido': 'Ejemplar', 'edad': 26, 'país': 'España', 'casado': True, 'conocimientos': ['JavaScript', 'React', 'Node', 'MongoDB', 'Python'], 'direccion': {'calle': 'De la protección de datos', 'cp': '28000'}}\n",
      "Esto es persona2: {'nombre': 'Manuel', 'apellido': 'Ejemplar', 'edad': 26, 'país': 'España', 'casado': False, 'conocimientos': ['JavaScript', 'React', 'Node', 'MongoDB', 'Python'], 'direccion': {'calle': 'De la protección de datos', 'cp': '28000'}}\n"
     ]
    }
   ],
   "source": [
    "persona = {\n",
    "    'nombre':'Manuel',\n",
    "    'apellido':'Ejemplar',\n",
    "    'edad':26,\n",
    "    'país':'España',\n",
    "    'casado':True,\n",
    "    'conocimientos':['JavaScript', 'React', 'Node', 'MongoDB', 'Python'],\n",
    "    'direccion':{\n",
    "        'calle':'De la protección de datos',\n",
    "        'cp':'28000'\n",
    "    }\n",
    "    }\n",
    "\n",
    "print(f\"Esto es persona: {persona}\")\n",
    "\n",
    "persona2 = persona # Esto no crea una copia sino una nueva referencia\n",
    "\n",
    "persona2['casado'] = False\n",
    "print(f\"Esto es persona: {persona}\")\n",
    "\n",
    "\n",
    "persona['casado'] = True\n",
    "persona2 = persona.copy()\n",
    "\n",
    "persona2['casado'] = False\n",
    "print(f\"Esto es persona: {persona}\")\n",
    "print(f\"Esto es persona2: {persona2}\")\n",
    "\n"
   ]
  },
  {
   "cell_type": "markdown",
   "metadata": {},
   "source": [
    "## Borrando elementos de un diccionario y eliminando un diccionario\n",
    "\n",
    "- *clear()*: Elimina los elementos de un diccionario, quedando un diccionario vacío.\n",
    "- *del diccionario*: Elimina completamente el diccionario. "
   ]
  },
  {
   "cell_type": "code",
   "execution_count": 28,
   "metadata": {},
   "outputs": [
    {
     "name": "stdout",
     "output_type": "stream",
     "text": [
      "{'nombre': 'Manuel', 'apellido': 'Ejemplar', 'edad': 26, 'país': 'España', 'casado': True, 'conocimientos': ['JavaScript', 'React', 'Node', 'MongoDB', 'Python'], 'direccion': {'calle': 'De la protección de datos', 'cp': '28000'}}\n",
      "{}\n"
     ]
    }
   ],
   "source": [
    "print(persona)\n",
    "persona.clear()\n",
    "print(persona)\n",
    "del persona\n",
    "#print(persona) # Esto daría error porque el diccionario persona ya no existe"
   ]
  }
 ],
 "metadata": {
  "kernelspec": {
   "display_name": "Python 3 (ipykernel)",
   "language": "python",
   "name": "python3"
  },
  "language_info": {
   "codemirror_mode": {
    "name": "ipython",
    "version": 3
   },
   "file_extension": ".py",
   "mimetype": "text/x-python",
   "name": "python",
   "nbconvert_exporter": "python",
   "pygments_lexer": "ipython3",
   "version": "3.10.8"
  },
  "orig_nbformat": 4,
  "vscode": {
   "interpreter": {
    "hash": "148bc2fe2ce836d1207444959a10972eb542baaac3c074ca73e8aeb656ed9f05"
   }
  }
 },
 "nbformat": 4,
 "nbformat_minor": 2
}
