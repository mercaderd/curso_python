{
 "cells": [
  {
   "attachments": {},
   "cell_type": "markdown",
   "metadata": {},
   "source": [
    "# 📗 Lección 10: Diccionarios\n",
    "\n",
    "## Definición\n",
    "\n",
    "Hay cuatro estructuras de datos compuestas en Python: *Listas*, *Tuplas*, *Conjuntos* y *Diccionarios*.\n",
    "\n",
    "**Los diccionarios** :\n",
    "- Son una colección de elementos organizados como pares clave, valor.\n",
    "- Son mutables, se pueden añadir y quitar elementos.\n",
    "- No estan ordenados.\n",
    "- Pueden estar vacíos.\n",
    "- Los valores pueden ser elementos de distintos tipos, es decir cualquier tipo de objeto.\n",
    "\n",
    "Se pueden crear vacíos con el contructor dict() o con llaves {}, o con elementos utilizando llaves {}.\n",
    "\n",
    " 📝 **Nota:** En Python las llaves {} se utilizan para conjuntos y diccionarios. Unas llaves sin elementos dentro creará un diccionario y no un conjunto."
   ]
  },
  {
   "cell_type": "code",
   "execution_count": 6,
   "metadata": {},
   "outputs": [
    {
     "name": "stdout",
     "output_type": "stream",
     "text": [
      "{}\n",
      "{}\n",
      "<class 'dict'>\n",
      "<class 'dict'>\n",
      "{'clave1': 'valor1', 'clave2': '🎈', 'clave3': 3}\n",
      "<class 'dict'>\n",
      "{'nombre': 'Manuel', 'apellido': 'Ejemplar', 'edad': 26, 'país': 'España', 'casado': True, 'conocimientos': ['JavaScript', 'React', 'Node', 'MongoDB', 'Python'], 'direccion': {'calle': 'De la protección de datos', 'cp': '28000'}}\n"
     ]
    }
   ],
   "source": [
    "# Creación de diccionarios\n",
    "\n",
    "diccionario1 = dict() # Esto es un diccionario vacio.\n",
    "diccionario2 = {} # # Esto es otro diccionario vacío.\n",
    "\n",
    "print(diccionario1)\n",
    "print(diccionario2)\n",
    "\n",
    "print(type(diccionario1))\n",
    "print(type(diccionario2))\n",
    "\n",
    "# Creación de diccionarios con valores iniciales\n",
    "\n",
    "diccionario3 = {\"clave1\": \"valor1\", \"clave2\": \"🎈\", \"clave3\": 3}  # Los valores pueden contener cualquier tipo de objetos\n",
    "\n",
    "print(diccionario3)\n",
    "\n",
    "print(type(diccionario3)) \n",
    "\n",
    "persona = {\n",
    "    'nombre':'Manuel',\n",
    "    'apellido':'Ejemplar',\n",
    "    'edad':26,\n",
    "    'país':'España',\n",
    "    'casado':True,\n",
    "    'conocimientos':['JavaScript', 'React', 'Node', 'MongoDB', 'Python'],\n",
    "    'direccion':{\n",
    "        'calle':'De la protección de datos',\n",
    "        'cp':'28000'\n",
    "    }\n",
    "    }\n",
    "\n",
    "print(persona)\n"
   ]
  },
  {
   "cell_type": "markdown",
   "metadata": {},
   "source": [
    "Se puede utilizar la función built-in *len()* para saber el número de pares clave,valor de un diccionario."
   ]
  },
  {
   "cell_type": "code",
   "execution_count": 7,
   "metadata": {},
   "outputs": [
    {
     "name": "stdout",
     "output_type": "stream",
     "text": [
      "Diccionario: {'clave1': 'valor1', 'clave2': '🎈', 'clave3': 3}\n",
      "Número de pares clave,valor: 3\n",
      "Persona {'nombre': 'Manuel', 'apellido': 'Ejemplar', 'edad': 26, 'país': 'España', 'casado': True, 'conocimientos': ['JavaScript', 'React', 'Node', 'MongoDB', 'Python'], 'direccion': {'calle': 'De la protección de datos', 'cp': '28000'}}\n",
      "Número de pares clave,valor: 7\n"
     ]
    }
   ],
   "source": [
    "# Número de elementos de un diccionario\n",
    "\n",
    "print(\"Diccionario:\", diccionario3)\n",
    "print(f\"Número de pares clave,valor: {len(diccionario3)}\")\n",
    "\n",
    "print(\"Persona\", persona)\n",
    "print(f\"Número de pares clave,valor: {len(persona)}\")"
   ]
  },
  {
   "cell_type": "markdown",
   "metadata": {},
   "source": [
    "## Accediendo a los elementos de un diccionario\n",
    "\n",
    "Se puede acceder a los elementos de un conjunto referenciándolos por la clave."
   ]
  },
  {
   "cell_type": "code",
   "execution_count": 9,
   "metadata": {},
   "outputs": [
    {
     "name": "stdout",
     "output_type": "stream",
     "text": [
      "valor1\n",
      "🎈\n",
      "3\n",
      "Ejemplar\n"
     ]
    }
   ],
   "source": [
    "# Accediendo a los elementos de un diccionario\n",
    "\n",
    "print(diccionario3['clave1'])\n",
    "print(diccionario3['clave2'])\n",
    "print(diccionario3['clave3'])\n",
    "\n",
    "print(persona['apellido'])"
   ]
  },
  {
   "cell_type": "markdown",
   "metadata": {},
   "source": [
    "Acceder por clave dará un error cuando la clave no existe. Para evitarlo, se puede comprobar la existencia de la clave antes de intentar acceder o utilizar el método get(), que devuelve el valor si la clave existe o *None* si la clave no existe.\n",
    "\n",
    "> 📝 **Nota:** **NoneType** es un tipo de dato especial de variable en Python cuyo único valor posible es *None*. Se puede asignar a cualquier tipo de objeto para indicar que está definido pero no tiene ningún valor."
   ]
  },
  {
   "cell_type": "code",
   "execution_count": 11,
   "metadata": {},
   "outputs": [
    {
     "name": "stdout",
     "output_type": "stream",
     "text": [
      "Manuel\n",
      "Ejemplar\n",
      "None\n"
     ]
    }
   ],
   "source": [
    "print(persona.get('nombre'))\n",
    "print(persona.get('apellido'))\n",
    "print(persona.get('hijos')) # Daría error si se intenta hacer persona['hijos']"
   ]
  },
  {
   "cell_type": "markdown",
   "metadata": {},
   "source": [
    "## Comprobando si un elemento está en un conjunto\n",
    "- Se puede utilizar el operador *in*."
   ]
  },
  {
   "cell_type": "code",
   "execution_count": 8,
   "metadata": {},
   "outputs": [
    {
     "name": "stdout",
     "output_type": "stream",
     "text": [
      "False\n",
      "True\n",
      "True\n",
      "False\n"
     ]
    }
   ],
   "source": [
    "# Comprobando si un elemento está en un conjunto\n",
    "\n",
    "globo_en_conjunto = \"globo\" in conjunto4\n",
    "print(globo_en_conjunto)\n",
    "\n",
    "none_en_conjunto = None in conjunto4\n",
    "print(none_en_conjunto)\n",
    "\n",
    "num_en_conjunto = 35 in conjunto4\n",
    "print(num_en_conjunto)\n",
    "\n",
    "cabra_en_conjunto = \"cabra\" in conjunto4\n",
    "print(cabra_en_conjunto)\n"
   ]
  },
  {
   "cell_type": "markdown",
   "metadata": {},
   "source": [
    "## Añadiendo y eliminando elementos de un conjunto\n",
    "\n",
    "- *add()* Añade un elemento al conjunto.\n",
    "- *update()* Añade varios elementos a un conjunto, los elementos de una lista.\n",
    "- *remove()* Elimina un elemento del conjunto. Si el elemento no existe dará un error.\n",
    "- *discard()* Elimina un elemento de un conjunto, si existe. No dará error si el elemento no existe.\n",
    "- *pop()* elimina un elemento aleatorio de un conjunto y lo devuelve.\n",
    "- *clear()* elimina todos los elementos de un conjunto\n"
   ]
  },
  {
   "cell_type": "code",
   "execution_count": 9,
   "metadata": {},
   "outputs": [
    {
     "name": "stdout",
     "output_type": "stream",
     "text": [
      "{'melón', 'sandía', 'plátano', 'tomate', 'naranja'}\n",
      "Número de elementos: 5\n",
      "{'melón', 'sandía', 'mandarina', 'plátano', 'tomate', 'naranja'}\n",
      "Número de elementos: 6\n",
      "{'melón', 'sandía', 'naranja', 'mandarina', 'tomate', 'ciruela', 'fresa', 'melocotón', 'plátano'}\n",
      "Número de elementos: 9\n"
     ]
    }
   ],
   "source": [
    "# Añadiendo elementos a un conjunto\n",
    "\n",
    "frutas = {\"plátano\", \"tomate\", \"melón\", \"sandía\", \"naranja\"}\n",
    "print(frutas)\n",
    "print(f'Número de elementos: {len(frutas)}')\n",
    "frutas.add(\"mandarina\")\n",
    "print(frutas)\n",
    "print(f'Número de elementos: {len(frutas)}')\n",
    "frutas.update([\"fresa\",\"melocotón\",\"ciruela\"])\n",
    "print(frutas)\n",
    "print(f'Número de elementos: {len(frutas)}')\n",
    "\n"
   ]
  },
  {
   "cell_type": "code",
   "execution_count": 10,
   "metadata": {},
   "outputs": [
    {
     "ename": "KeyError",
     "evalue": "'platano'",
     "output_type": "error",
     "traceback": [
      "\u001b[0;31m---------------------------------------------------------------------------\u001b[0m",
      "\u001b[0;31mKeyError\u001b[0m                                  Traceback (most recent call last)",
      "\u001b[1;32m/workspaces/curso_python/09_Conjuntos/09_Conjuntos.ipynb Celda 10\u001b[0m line \u001b[0;36m4\n\u001b[1;32m      <a href='vscode-notebook-cell://codespaces%2Breimagined-bassoon-q4r9rwxxvg3x57q/workspaces/curso_python/09_Conjuntos/09_Conjuntos.ipynb#X25sdnNjb2RlLXJlbW90ZQ%3D%3D?line=0'>1</a>\u001b[0m \u001b[39m# Eliminando elementos de un conjunto\u001b[39;00m\n\u001b[0;32m----> <a href='vscode-notebook-cell://codespaces%2Breimagined-bassoon-q4r9rwxxvg3x57q/workspaces/curso_python/09_Conjuntos/09_Conjuntos.ipynb#X25sdnNjb2RlLXJlbW90ZQ%3D%3D?line=3'>4</a>\u001b[0m frutas\u001b[39m.\u001b[39;49mremove(\u001b[39m\"\u001b[39;49m\u001b[39mplatano\u001b[39;49m\u001b[39m\"\u001b[39;49m) \u001b[39m# Dará error, el elemento platano no existe en la lista\u001b[39;00m\n",
      "\u001b[0;31mKeyError\u001b[0m: 'platano'"
     ]
    }
   ],
   "source": [
    "# Eliminando elementos de un conjunto\n",
    "\n",
    "frutas.remove(\"platano\") # Dará error, el elemento platano no existe en la lista\n"
   ]
  },
  {
   "cell_type": "code",
   "execution_count": 11,
   "metadata": {},
   "outputs": [
    {
     "name": "stdout",
     "output_type": "stream",
     "text": [
      "{'melón', 'sandía', 'naranja', 'mandarina', 'tomate', 'ciruela', 'fresa', 'melocotón', 'plátano'}\n",
      "Número de elementos: 9\n",
      "{'melón', 'sandía', 'naranja', 'mandarina', 'tomate', 'ciruela', 'fresa', 'melocotón'}\n",
      "Número de elementos: 8\n",
      "El elemento eliminado es: melón\n",
      "set()\n",
      "Número de elementos: 0\n"
     ]
    }
   ],
   "source": [
    "frutas.discard(\"granada\") # Aunque el elemento no existe, no da error\n",
    "print(frutas)\n",
    "print(f'Número de elementos: {len(frutas)}')\n",
    "frutas.remove(\"plátano\")\n",
    "print(frutas)\n",
    "print(f'Número de elementos: {len(frutas)}')\n",
    "eliminado = frutas.pop()\n",
    "print(f'El elemento eliminado es: {eliminado}')\n",
    "frutas.clear()\n",
    "print(frutas)\n",
    "print(f'Número de elementos: {len(frutas)}')"
   ]
  },
  {
   "cell_type": "markdown",
   "metadata": {},
   "source": [
    "## Eliminando un conjunto\n",
    "\n",
    "- *del* elimina un conjunto, destruye el objeto."
   ]
  },
  {
   "cell_type": "code",
   "execution_count": 13,
   "metadata": {},
   "outputs": [
    {
     "ename": "NameError",
     "evalue": "name 'conjunto4' is not defined",
     "output_type": "error",
     "traceback": [
      "\u001b[0;31m---------------------------------------------------------------------------\u001b[0m",
      "\u001b[0;31mNameError\u001b[0m                                 Traceback (most recent call last)",
      "\u001b[1;32m/workspaces/curso_python/09_Conjuntos/09_Conjuntos.ipynb Celda 13\u001b[0m line \u001b[0;36m3\n\u001b[1;32m      <a href='vscode-notebook-cell://codespaces%2Breimagined-bassoon-q4r9rwxxvg3x57q/workspaces/curso_python/09_Conjuntos/09_Conjuntos.ipynb#X31sdnNjb2RlLXJlbW90ZQ%3D%3D?line=0'>1</a>\u001b[0m \u001b[39m# Eliminando un conjunto\u001b[39;00m\n\u001b[0;32m----> <a href='vscode-notebook-cell://codespaces%2Breimagined-bassoon-q4r9rwxxvg3x57q/workspaces/curso_python/09_Conjuntos/09_Conjuntos.ipynb#X31sdnNjb2RlLXJlbW90ZQ%3D%3D?line=2'>3</a>\u001b[0m \u001b[39mdel\u001b[39;00m conjunto4\n\u001b[1;32m      <a href='vscode-notebook-cell://codespaces%2Breimagined-bassoon-q4r9rwxxvg3x57q/workspaces/curso_python/09_Conjuntos/09_Conjuntos.ipynb#X31sdnNjb2RlLXJlbW90ZQ%3D%3D?line=3'>4</a>\u001b[0m \u001b[39mprint\u001b[39m(onjunto4)\n",
      "\u001b[0;31mNameError\u001b[0m: name 'conjunto4' is not defined"
     ]
    }
   ],
   "source": [
    "# Eliminando un conjunto\n",
    "\n",
    "del conjunto4\n",
    "print(onjunto4)"
   ]
  },
  {
   "cell_type": "markdown",
   "metadata": {},
   "source": [
    "## Uniendo conjuntos\n",
    "\n",
    "Se pueden unir conjuntos utilizando los métodos *union* o *update*.\n",
    "\n",
    "- *union* devuelve un nuevo conjunto con la unión.\n",
    "- *update* modifica el conjunto sobre el que se ejecuta el método (se utiliza también para añadir elementos)."
   ]
  },
  {
   "cell_type": "code",
   "execution_count": 16,
   "metadata": {},
   "outputs": [
    {
     "name": "stdout",
     "output_type": "stream",
     "text": [
      "{'elemento2', 4, 'elemento3', 'elemento1'}\n",
      "{'🎈', 2.2, 35, 44, None, 'queso', 'uno', 'plátano'}\n",
      "{'🎈', 'elemento2', 2.2, 4, 35, 'elemento1', 44, None, 'queso', 'uno', 'plátano', 'elemento3'}\n",
      "{'🎈', 'elemento2', 2.2, 4, 35, 'elemento1', 44, None, 'queso', 'uno', 'plátano', 'elemento3'}\n"
     ]
    }
   ],
   "source": [
    "## Uniendo conjuntos\n",
    "\n",
    "conjunto3 = {\"elemento1\", \"elemento2\", \"elemento3\", 4}  # No pueden contener elementos repetidos\n",
    "conjunto4 = set([\"queso\", \"plátano\", \"🎈\", 35, 44, 2.2, None, \"uno\",\"🎈\"]) # ¿Qué ocurren si se crean a partir de una lista con elementos repetidos?\n",
    "\n",
    "conjunto5 = conjunto3.union(conjunto4)\n",
    "print(conjunto3)\n",
    "print(conjunto4)\n",
    "print(conjunto5)\n",
    "\n",
    "conjunto3.update(conjunto4)\n",
    "print(conjunto3)"
   ]
  },
  {
   "cell_type": "markdown",
   "metadata": {},
   "source": [
    "## Intersección entre conjuntos (Encontrando elementos comunes)\n",
    "\n",
    "- *intesection()* Devuelve un conjunto con los elementos comunes."
   ]
  },
  {
   "cell_type": "code",
   "execution_count": 18,
   "metadata": {},
   "outputs": [
    {
     "name": "stdout",
     "output_type": "stream",
     "text": [
      "{'🎈', 2.2, 35, 44, None, 'queso', 'uno', 'plátano'}\n",
      "{'🎈', 'elemento2', 2.2, 4, 35, 'elemento1', 44, None, 'queso', 'uno', 'plátano', 'elemento3'}\n",
      "{'🎈', 2.2, 35, 44, None, 'queso', 'uno', 'plátano'}\n"
     ]
    }
   ],
   "source": [
    "## Encontrando elementos comunes\n",
    "\n",
    "print(conjunto4)\n",
    "print(conjunto5)\n",
    "print(conjunto4.intersection(conjunto5))"
   ]
  },
  {
   "cell_type": "code",
   "execution_count": null,
   "metadata": {},
   "outputs": [],
   "source": []
  }
 ],
 "metadata": {
  "kernelspec": {
   "display_name": "Python 3 (ipykernel)",
   "language": "python",
   "name": "python3"
  },
  "language_info": {
   "codemirror_mode": {
    "name": "ipython",
    "version": 3
   },
   "file_extension": ".py",
   "mimetype": "text/x-python",
   "name": "python",
   "nbconvert_exporter": "python",
   "pygments_lexer": "ipython3",
   "version": "3.10.8"
  },
  "orig_nbformat": 4,
  "vscode": {
   "interpreter": {
    "hash": "148bc2fe2ce836d1207444959a10972eb542baaac3c074ca73e8aeb656ed9f05"
   }
  }
 },
 "nbformat": 4,
 "nbformat_minor": 2
}
