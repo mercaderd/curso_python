{
 "cells": [
  {
   "attachments": {},
   "cell_type": "markdown",
   "metadata": {},
   "source": [
    "# 📗 Lección 05: Operadores\n",
    "\n",
    "## Aritméticos\n",
    "\n",
    "Los operadores aritméticos toman dos operandos y devuelven un resultado.\n",
    "```\n",
    "+       -       *       /       %       **      //\n",
    "```\n",
    "Ejemplos:"
   ]
  },
  {
   "cell_type": "code",
   "execution_count": 1,
   "metadata": {},
   "outputs": [
    {
     "name": "stdout",
     "output_type": "stream",
     "text": [
      "4\n",
      "4\n",
      "16\n"
     ]
    }
   ],
   "source": [
    "print(2+2)\n",
    "print(2*2)\n",
    "print(2**4)"
   ]
  },
  {
   "attachments": {},
   "cell_type": "markdown",
   "metadata": {},
   "source": [
    "Algunos operadores aritméticos también funcionan con cadenas de texto:"
   ]
  },
  {
   "cell_type": "code",
   "execution_count": 2,
   "metadata": {},
   "outputs": [
    {
     "name": "stdout",
     "output_type": "stream",
     "text": [
      "cadenacadenacadena\n",
      "cadena1cadena2\n"
     ]
    }
   ],
   "source": [
    "print(\"cadena\" * 3) # Devuelve la cadena repetida 3 veces\n",
    "print(\"cadena1\" + \"cadena2\") # El operador + concatena cadenas"
   ]
  },
  {
   "attachments": {},
   "cell_type": "markdown",
   "metadata": {},
   "source": [
    "## Asignación\n",
    "\n",
    "Se utilizan para asignar un valor a una variable. El principal operador de asignación es el símbolo igual (=).\n",
    "\n",
    "Otros operadores de asignación son:\n",
    "```\n",
    "=       +=      -=      *=      /=      %=\n",
    "**=     //=     &=      |=      ^=      >>=\n",
    "<<=\n",
    "```\n",
    "\n",
    "Ejemplos típicos:"
   ]
  },
  {
   "cell_type": "code",
   "execution_count": 3,
   "metadata": {},
   "outputs": [
    {
     "name": "stdout",
     "output_type": "stream",
     "text": [
      "16\n"
     ]
    }
   ],
   "source": [
    "a = 5\n",
    "a += 3 # a = a + 3\n",
    "a *= 2 # a = a * 2\n",
    "print(a) # 16"
   ]
  },
  {
   "attachments": {},
   "cell_type": "markdown",
   "metadata": {},
   "source": [
    "## Comparación\n",
    "\n",
    "Comparan dos operandos. Los operadores de comparación son:\n",
    "```\n",
    ">       <       ==      >=      <=      !=\n",
    "```\n",
    "\n",
    "Ejemplos:"
   ]
  },
  {
   "cell_type": "code",
   "execution_count": 4,
   "metadata": {},
   "outputs": [
    {
     "name": "stdout",
     "output_type": "stream",
     "text": [
      "True\n",
      "False\n",
      "True\n",
      "False\n",
      "True\n",
      "False\n",
      "True\n"
     ]
    }
   ],
   "source": [
    "# Comparación entre números\n",
    "print(5>3)\n",
    "print(5<3)\n",
    "print(5==5)\n",
    "print(5==6)\n",
    "print(5!=6)\n",
    "\n",
    "# Comparación de cadenas de texto\n",
    "print(\"hola\"==\"Hola\")\n",
    "print(\"abanico\"<\"besugo\")"
   ]
  },
  {
   "attachments": {},
   "cell_type": "markdown",
   "metadata": {},
   "source": [
    "## Lógicos\n",
    "\n",
    "Se utilizan fundamentalmente para tomar una decisión en base a varias condiciones.\n",
    "\n",
    "```\n",
    "and     or      not\n",
    "```\n",
    "\n",
    "Ejemplos:"
   ]
  },
  {
   "cell_type": "code",
   "execution_count": 5,
   "metadata": {},
   "outputs": [
    {
     "name": "stdout",
     "output_type": "stream",
     "text": [
      "False\n",
      "True\n",
      "True\n",
      "True\n"
     ]
    }
   ],
   "source": [
    "print(True and False) # False\n",
    "print(False or True) # True\n",
    "print(not False) # True\n",
    "print((3>2) and (5>1)) # True"
   ]
  },
  {
   "attachments": {},
   "cell_type": "markdown",
   "metadata": {},
   "source": [
    "# Operadores \"is\" e \"in\"\n",
    "\n",
    "El operador *is* devuelve *True* si ambos operandos son el mismo objeto.\n",
    "\n",
    "> 📝 **Nota:**\n",
    "> Los operadores is y == no deben confundirse. Mientras el primero es para comprobar si dos operandos son el mismo objeto, el segundo es para comporar si tienen el mismo valor.\n",
    "\n",
    "El operador *in* sirve para comprobar si un operando está en una secuencia (cadenas, lista, tuplas).\n"
   ]
  },
  {
   "cell_type": "code",
   "execution_count": 6,
   "metadata": {},
   "outputs": [
    {
     "name": "stdout",
     "output_type": "stream",
     "text": [
      "True\n",
      "False\n",
      "True\n",
      "False\n"
     ]
    }
   ],
   "source": [
    "a = 3\n",
    "b = 3.0\n",
    "print(a == b)\n",
    "print(a is b)\n",
    "\n",
    "cadena = \"mi cadena\"\n",
    "print(\"mi\" in cadena)\n",
    "print(\"no\" in cadena)"
   ]
  }
 ],
 "metadata": {
  "kernelspec": {
   "display_name": "Python 3",
   "language": "python",
   "name": "python3"
  },
  "language_info": {
   "codemirror_mode": {
    "name": "ipython",
    "version": 3
   },
   "file_extension": ".py",
   "mimetype": "text/x-python",
   "name": "python",
   "nbconvert_exporter": "python",
   "pygments_lexer": "ipython3",
   "version": "3.10.8"
  },
  "orig_nbformat": 4,
  "vscode": {
   "interpreter": {
    "hash": "148bc2fe2ce836d1207444959a10972eb542baaac3c074ca73e8aeb656ed9f05"
   }
  }
 },
 "nbformat": 4,
 "nbformat_minor": 2
}
