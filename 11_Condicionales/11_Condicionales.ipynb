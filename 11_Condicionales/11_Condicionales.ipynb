{
 "cells": [
  {
   "attachments": {},
   "cell_type": "markdown",
   "metadata": {},
   "source": [
    "# 📗 Lección 11: Condicionales\n",
    "\n",
    "## Definición\n",
    "\n",
    "Por defecto el código Python, un script, se ejecuta de forma ordenada, de principio a fin. Hay dos formas de alterar este comportamiento (obviando funciones, orientación a objetos, etc).\n",
    "\n",
    "- *Condicionales*:Un determinado bloque de código únicamente se ejecutará cuando una condición sea cierta (*True*).\n",
    "- *Bucles*: Un determinado bloque de código se ejecutará repetidamente mientras una condición sea cierta (*True*)."
   ]
  },
  {
   "cell_type": "markdown",
   "metadata": {},
   "source": [
    "## Condicional If\n",
    "\n",
    "- *if* se utiliza para comprobar si una condición es cierta y ejecutar un bloque de código.\n",
    "\n",
    "```python\n",
    "if condicion:\n",
    "    do this\n",
    "    and this \n",
    "    and also this\n",
    "```"
   ]
  },
  {
   "cell_type": "code",
   "execution_count": 2,
   "metadata": {},
   "outputs": [
    {
     "name": "stdout",
     "output_type": "stream",
     "text": [
      "a es mayor que 5\n",
      "Fin del condicional\n"
     ]
    }
   ],
   "source": [
    "# Condicional if\n",
    "\n",
    "a = 10\n",
    "if a < 5:\n",
    "    print('a es menor que 5')\n",
    "    \n",
    "\n",
    "if a > 5:\n",
    "    print('a es mayor que 5')\n",
    "    print('Fin del condicional')\n"
   ]
  },
  {
   "cell_type": "markdown",
   "metadata": {},
   "source": [
    "## Condicional If Else\n",
    "\n",
    "- Si la condición es cierta, se ejecuta el primer bloque de código (tras el *if*), si no es cierta se ejecuta el segundo bloque de código (tras el *else*)"
   ]
  },
  {
   "cell_type": "code",
   "execution_count": 3,
   "metadata": {},
   "outputs": [
    {
     "name": "stdout",
     "output_type": "stream",
     "text": [
      "a es mayor que 5\n"
     ]
    }
   ],
   "source": [
    "# Condicional If Else\n",
    "a = 10\n",
    "\n",
    "if a < 5:\n",
    "    print('a es menor que 5')\n",
    "else:\n",
    "    print('a es mayor que 5')\n"
   ]
  },
  {
   "cell_type": "markdown",
   "metadata": {},
   "source": [
    "## Condicional If Elif Else\n",
    "\n",
    "- Se utiliza para comprobar múltiples condiciones.\n",
    "\n",
    "```python\n",
    "if condicion1:\n",
    "    haz esto\n",
    "elif condicion2:\n",
    "    haz esto otro\n",
    "elif condicion3:\n",
    "    haz esto\n",
    "else:\n",
    "    haz esto\n",
    "```"
   ]
  },
  {
   "cell_type": "code",
   "execution_count": 11,
   "metadata": {},
   "outputs": [
    {
     "name": "stdout",
     "output_type": "stream",
     "text": [
      "Resultado del primer condicional:\n",
      "Número positivo\n",
      "Resultado del segundo condicional:\n",
      "Número positivo mayor que 5\n"
     ]
    }
   ],
   "source": [
    "# Condicional If Elif Else\n",
    "\n",
    "print(\"Resultado del primer condicional:\")\n",
    "a = 100\n",
    "if a < 0:\n",
    "    print(\"Número negativo\")\n",
    "elif a > 0:\n",
    "    print(\"Número positivo\")\n",
    "elif a > 5:\n",
    "    print(\"Número mayor que 5\") # Hay que se cuidadosos con las condiciones porque una vez que se cumple una, el condicional no continúa. Esto no se ejecutará nunca\n",
    "else:\n",
    "    print(\"El número es 0\")\n",
    "\n",
    "\n",
    "print(\"Resultado del segundo condicional:\")\n",
    "a = 100\n",
    "if a < 0:\n",
    "    print(\"Número negativo\")\n",
    "elif a > 5:\n",
    "    print(\"Número positivo mayor que 5\")\n",
    "elif a > 0:\n",
    "    print(\"Número positivo\") # Hay que se cuidadosos con las condiciones porque una vez que se cumple una, el condicional no continúa. Esto no se ejecutará nunca\n",
    "else:\n",
    "    print(\"El número es 0\")\n"
   ]
  },
  {
   "cell_type": "markdown",
   "metadata": {},
   "source": [
    "## Condicionales simplificados en una línea\n",
    "\n",
    "Hay una forma especial de escribir condicionales en una sola línea cuando se va a ejecutar una única intrucción por condición\n",
    "\n",
    "```python\n",
    "do this if condicion else do this other thing\n",
    "```"
   ]
  },
  {
   "cell_type": "code",
   "execution_count": 12,
   "metadata": {},
   "outputs": [
    {
     "name": "stdout",
     "output_type": "stream",
     "text": [
      "Positivo\n"
     ]
    }
   ],
   "source": [
    "# Condicionales en una línea\n",
    "\n",
    "a = 10\n",
    "print('Positivo') if a >= 0 else print('Negativo')"
   ]
  },
  {
   "cell_type": "markdown",
   "metadata": {},
   "source": [
    "## Condicionales anidados\n",
    "\n",
    "Los condicionales se pueden anidar como en cualquier otro lenguaje de programación. Sin embargo lo recomendable es no tener que recurrir a condicionales anidados.\n",
    "\n",
    "````python\n",
    "if condicion:\n",
    "    haz esto\n",
    "    if condicion2:\n",
    "        haz tambien esto\n",
    "```"
   ]
  },
  {
   "cell_type": "code",
   "execution_count": 13,
   "metadata": {},
   "outputs": [
    {
     "name": "stdout",
     "output_type": "stream",
     "text": [
      "A es cero\n"
     ]
    }
   ],
   "source": [
    "# Condicionales anidados\n",
    "\n",
    "a = 0\n",
    "if a > 0:\n",
    "    if a > 5 == 0:\n",
    "        print('A es positivo y mayor que 5')\n",
    "    else:\n",
    "        print('A es positivo')\n",
    "elif a == 0:\n",
    "    print('A es cero')\n",
    "else:\n",
    "    print('A es negativo')"
   ]
  },
  {
   "cell_type": "markdown",
   "metadata": {},
   "source": [
    "## Condicionales con operadores lógicos\n",
    "\n",
    "- Se pueden utilizar los operadores lógicos *and* *or* *not*, junto con los operadores *is* e *in* para elaborar condiciones complejas.\n"
   ]
  },
  {
   "cell_type": "code",
   "execution_count": 23,
   "metadata": {},
   "outputs": [
    {
     "name": "stdout",
     "output_type": "stream",
     "text": [
      "Número positivo mayor o igual a 5\n",
      "['pedro', 'daniel', 'josé', 'teresa', 'arturo', 'manuel']\n"
     ]
    }
   ],
   "source": [
    "## Condiciones con operadores \n",
    "\n",
    "a=20\n",
    "\n",
    "if type(a) == int or type(a) == float:\n",
    "    if a > 0 and a < 5:\n",
    "        print(\"Número positivo menor de 5\")\n",
    "    elif a >= 5:\n",
    "        print(\"Número positivo mayor o igual a 5\")\n",
    "    elif a == 0:\n",
    "        print(\"Número igual a cero\")\n",
    "    else:\n",
    "        print(\"Número negativo\")\n",
    "else:\n",
    "    print(\"No es un número\")\n",
    "\n",
    "nombres = [\"pedro\", \"daniel\", \"josé\", \"teresa\", \"arturo\"]\n",
    "\n",
    "if \"manuel\" not in nombres:\n",
    "    nombres.append(\"manuel\")\n",
    "\n",
    "print(nombres)"
   ]
  },
  {
   "cell_type": "markdown",
   "metadata": {},
   "source": [
    "## Lectura de datos por teclado con *input*\n",
    "\n",
    "- *input(\"mensaje al usuario\")*: Sirve para pedir al usuario que introduzca datos por teclado. Siempre devuelve una cadena de texto.\n"
   ]
  },
  {
   "cell_type": "code",
   "execution_count": 27,
   "metadata": {},
   "outputs": [
    {
     "ename": "ValueError",
     "evalue": "invalid literal for int() with base 10: 'cinco'",
     "output_type": "error",
     "traceback": [
      "\u001b[0;31m---------------------------------------------------------------------------\u001b[0m",
      "\u001b[0;31mValueError\u001b[0m                                Traceback (most recent call last)",
      "\u001b[1;32m/workspaces/curso_python/11_Condicionales/11_Condicionales.ipynb Celda 15\u001b[0m line \u001b[0;36m5\n\u001b[1;32m      <a href='vscode-notebook-cell://codespaces%2Breimagined-bassoon-q4r9rwxxvg3x57q/workspaces/curso_python/11_Condicionales/11_Condicionales.ipynb#X46sdnNjb2RlLXJlbW90ZQ%3D%3D?line=0'>1</a>\u001b[0m \u001b[39m# Ejemplo de entrada de datos por teclado\u001b[39;00m\n\u001b[1;32m      <a href='vscode-notebook-cell://codespaces%2Breimagined-bassoon-q4r9rwxxvg3x57q/workspaces/curso_python/11_Condicionales/11_Condicionales.ipynb#X46sdnNjb2RlLXJlbW90ZQ%3D%3D?line=2'>3</a>\u001b[0m entrada \u001b[39m=\u001b[39m \u001b[39minput\u001b[39m(\u001b[39m\"\u001b[39m\u001b[39mIntroduce un número: \u001b[39m\u001b[39m\"\u001b[39m)\n\u001b[0;32m----> <a href='vscode-notebook-cell://codespaces%2Breimagined-bassoon-q4r9rwxxvg3x57q/workspaces/curso_python/11_Condicionales/11_Condicionales.ipynb#X46sdnNjb2RlLXJlbW90ZQ%3D%3D?line=4'>5</a>\u001b[0m a \u001b[39m=\u001b[39m \u001b[39mint\u001b[39;49m(entrada) \u001b[39m# Esto dará error. Excepción de tipo ValueError si el texto introducido no se puede convertir(casting de variable)\u001b[39;00m\n\u001b[1;32m      <a href='vscode-notebook-cell://codespaces%2Breimagined-bassoon-q4r9rwxxvg3x57q/workspaces/curso_python/11_Condicionales/11_Condicionales.ipynb#X46sdnNjb2RlLXJlbW90ZQ%3D%3D?line=6'>7</a>\u001b[0m \u001b[39mif\u001b[39;00m \u001b[39mtype\u001b[39m(a) \u001b[39m==\u001b[39m \u001b[39mint\u001b[39m \u001b[39mor\u001b[39;00m \u001b[39mtype\u001b[39m(a) \u001b[39m==\u001b[39m \u001b[39mfloat\u001b[39m:\n\u001b[1;32m      <a href='vscode-notebook-cell://codespaces%2Breimagined-bassoon-q4r9rwxxvg3x57q/workspaces/curso_python/11_Condicionales/11_Condicionales.ipynb#X46sdnNjb2RlLXJlbW90ZQ%3D%3D?line=7'>8</a>\u001b[0m     \u001b[39mif\u001b[39;00m a \u001b[39m>\u001b[39m \u001b[39m0\u001b[39m \u001b[39mand\u001b[39;00m a \u001b[39m<\u001b[39m \u001b[39m5\u001b[39m:\n",
      "\u001b[0;31mValueError\u001b[0m: invalid literal for int() with base 10: 'cinco'"
     ]
    }
   ],
   "source": [
    "# Ejemplo de entrada de datos por teclado\n",
    "\n",
    "entrada = input(\"Introduce un número: \")\n",
    "\n",
    "a = int(entrada) # Esto dará error. Excepción de tipo ValueError si el texto introducido no se puede convertir(casting de variable)\n",
    "\n",
    "if type(a) == int or type(a) == float:\n",
    "    if a > 0 and a < 5:\n",
    "        print(\"Número positivo menor de 5\")\n",
    "    elif a >= 5:\n",
    "        print(\"Número positivo mayor o igual a 5\")\n",
    "    elif a == 0:\n",
    "        print(\"Número igual a cero\")\n",
    "    else:\n",
    "        print(\"Número negativo\")\n",
    "else:\n",
    "    print(\"No es un número\")\n",
    "\n"
   ]
  },
  {
   "cell_type": "markdown",
   "metadata": {},
   "source": [
    "## Un poco de gestión de excepciones (A LO BESTIA)\n",
    "\n",
    "- Hay que distinguir *errores de sintaxis* de *excepciones*.\n",
    "- Es recomendable (casi obligatorio) controlar y gestionar las *excepciones* que se puedan dar en tiempo de ejecución.\n",
    "\n",
    "La gestión de excepciones en Python se puede controlar con *try*-*except*.\n",
    "\n",
    "```python\n",
    "try\n",
    "    intenta hacer esto\n",
    "except tipoExcepcion:\n",
    "    ejecuta esto otro si se produce una excepción de tipoExcepcion\n",
    "```"
   ]
  },
  {
   "cell_type": "code",
   "execution_count": 37,
   "metadata": {},
   "outputs": [
    {
     "name": "stdout",
     "output_type": "stream",
     "text": [
      "No es un número. Debes introducir un número.\n"
     ]
    }
   ],
   "source": [
    "# Ejemplo de gestión de excepciones\n",
    "\n",
    "entrada = input(\"Introduce un número: \")\n",
    "\n",
    "try:\n",
    "    a = int(entrada) # Esto dará error. Excepción de tipo ValueError si el texto introducido no se puede convertir(casting de variable)\n",
    "    if a > 0 and a < 5:\n",
    "        print(\"Número positivo menor de 5\")\n",
    "    elif a >= 5:\n",
    "        print(\"Número positivo mayor o igual a 5\")\n",
    "    elif a == 0:\n",
    "        print(\"Número igual a cero\")\n",
    "    else:\n",
    "        print(\"Número negativo\")\n",
    "\n",
    "except:\n",
    "    print(\"No es un número. Debes introducir un número.\") # Esto se ejecuta si ocurre cualquier tipo de excepción.\n"
   ]
  },
  {
   "cell_type": "code",
   "execution_count": 35,
   "metadata": {},
   "outputs": [
    {
     "name": "stdout",
     "output_type": "stream",
     "text": [
      "No es un número. Debes introducir un número.\n"
     ]
    }
   ],
   "source": [
    "# Para controlar mejor, es necesario especificar el tipo de excepción.\n",
    "\n",
    "entrada = input(\"Introduce un número: \")\n",
    "\n",
    "try:\n",
    "    a = int(entrada) # Esto dará error. Excepción de tipo ValueError si el texto introducido no se puede convertir(casting de variable)\n",
    "    if a > 0 and a < 5:\n",
    "        print(\"Número positivo menor de 5\")\n",
    "    elif a >= 5:\n",
    "        print(\"Número positivo mayor o igual a 5\")\n",
    "    elif a == 0:\n",
    "        print(\"Número igual a cero\")\n",
    "    else:\n",
    "        print(\"Número negativo\")\n",
    "\n",
    "except ValueError:\n",
    "    print(\"No es un número. Debes introducir un número.\") # Esto se ejecuta si ocurre cualquier tipo de excepción."
   ]
  }
 ],
 "metadata": {
  "kernelspec": {
   "display_name": "Python 3 (ipykernel)",
   "language": "python",
   "name": "python3"
  },
  "language_info": {
   "codemirror_mode": {
    "name": "ipython",
    "version": 3
   },
   "file_extension": ".py",
   "mimetype": "text/x-python",
   "name": "python",
   "nbconvert_exporter": "python",
   "pygments_lexer": "ipython3",
   "version": "3.10.8"
  },
  "orig_nbformat": 4,
  "vscode": {
   "interpreter": {
    "hash": "148bc2fe2ce836d1207444959a10972eb542baaac3c074ca73e8aeb656ed9f05"
   }
  }
 },
 "nbformat": 4,
 "nbformat_minor": 2
}
