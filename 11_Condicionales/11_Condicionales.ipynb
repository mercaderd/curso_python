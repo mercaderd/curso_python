{
 "cells": [
  {
   "attachments": {},
   "cell_type": "markdown",
   "metadata": {},
   "source": [
    "# 📗 Lección 11: Condicionales\n",
    "\n",
    "## Definición\n",
    "\n",
    "Por defecto el código Python, un script, se ejecuta de forma ordenada, de principio a fin. Hay dos formas de alterar este comportamiento (obviando funciones, orientación a objetos, etc).\n",
    "\n",
    "- *Condicionales*:Un determinado bloque de código únicamente se ejecutará cuando una condición sea cierta (*True*).\n",
    "- *Bucles*: Un determinado bloque de código se ejecutará repetidamente mientras una condición sea cierta (*True*)."
   ]
  },
  {
   "cell_type": "markdown",
   "metadata": {},
   "source": [
    "## Condicional If\n",
    "\n",
    "- *if* se utiliza para comprobar si una condición es cierta y ejecutar un bloque de código.\n",
    "\n",
    "```python\n",
    "if condicion:\n",
    "    do this\n",
    "    and this \n",
    "    and also this\n",
    "```"
   ]
  },
  {
   "cell_type": "code",
   "execution_count": 1,
   "metadata": {},
   "outputs": [
    {
     "name": "stdout",
     "output_type": "stream",
     "text": [
      "a es mayor que 5\n",
      "Fin del condicional\n"
     ]
    }
   ],
   "source": [
    "# Condicional if\n",
    "\n",
    "a = 10\n",
    "if a < 5:\n",
    "    print('a es menor que 5')\n",
    "    \n",
    "\n",
    "if a > 5:\n",
    "    print('a es mayor que 5')\n",
    "    print('Fin del condicional')\n"
   ]
  },
  {
   "cell_type": "markdown",
   "metadata": {},
   "source": [
    "## Condicional If Else\n",
    "\n",
    "- Si la condición es cierta, se ejecuta el primer bloque de código (tras el *if*), si no es cierta se ejecuta el segundo bloque de código (tras el *else*)"
   ]
  },
  {
   "cell_type": "code",
   "execution_count": 2,
   "metadata": {},
   "outputs": [
    {
     "name": "stdout",
     "output_type": "stream",
     "text": [
      "a es mayor que 5\n"
     ]
    }
   ],
   "source": [
    "# Condicional If Else\n",
    "a = 10\n",
    "\n",
    "if a < 5:\n",
    "    print('a es menor que 5')\n",
    "else:\n",
    "    print('a es mayor que 5')\n"
   ]
  },
  {
   "cell_type": "markdown",
   "metadata": {},
   "source": [
    "## Condicional If Elif Else\n",
    "\n",
    "- Se utiliza para comprobar múltiples condiciones.\n",
    "\n",
    "```python\n",
    "if condicion1:\n",
    "    haz esto\n",
    "elif condicion2:\n",
    "    haz esto otro\n",
    "elif condicion3:\n",
    "    haz esto\n",
    "else:\n",
    "    haz esto\n",
    "```"
   ]
  },
  {
   "cell_type": "code",
   "execution_count": 3,
   "metadata": {},
   "outputs": [
    {
     "name": "stdout",
     "output_type": "stream",
     "text": [
      "Resultado del primer condicional:\n",
      "Número positivo\n",
      "Resultado del segundo condicional:\n",
      "Número positivo mayor que 5\n"
     ]
    }
   ],
   "source": [
    "# Condicional If Elif Else\n",
    "\n",
    "print(\"Resultado del primer condicional:\")\n",
    "a = 100\n",
    "if a < 0:\n",
    "    print(\"Número negativo\")\n",
    "elif a > 0:\n",
    "    print(\"Número positivo\")\n",
    "elif a > 5:\n",
    "    print(\"Número mayor que 5\") # Hay que se cuidadosos con las condiciones porque una vez que se cumple una, el condicional no continúa. Esto no se ejecutará nunca\n",
    "else:\n",
    "    print(\"El número es 0\")\n",
    "\n",
    "\n",
    "print(\"Resultado del segundo condicional:\")\n",
    "a = 100\n",
    "if a < 0:\n",
    "    print(\"Número negativo\")\n",
    "elif a > 5:\n",
    "    print(\"Número positivo mayor que 5\")\n",
    "elif a > 0:\n",
    "    print(\"Número positivo\") # Hay que se cuidadosos con las condiciones porque una vez que se cumple una, el condicional no continúa. Esto no se ejecutará nunca\n",
    "else:\n",
    "    print(\"El número es 0\")\n"
   ]
  },
  {
   "cell_type": "markdown",
   "metadata": {},
   "source": [
    "## Condicionales simplificados en una línea\n",
    "\n",
    "Hay una forma especial de escribir condicionales en una sola línea cuando se va a ejecutar una única intrucción por condición\n",
    "\n",
    "```python\n",
    "do this if condicion else do this other thing\n",
    "```"
   ]
  },
  {
   "cell_type": "code",
   "execution_count": 4,
   "metadata": {},
   "outputs": [
    {
     "name": "stdout",
     "output_type": "stream",
     "text": [
      "Positivo\n"
     ]
    }
   ],
   "source": [
    "# Condicionales en una línea\n",
    "\n",
    "a = 10\n",
    "print('Positivo') if a >= 0 else print('Negativo')"
   ]
  },
  {
   "cell_type": "markdown",
   "metadata": {},
   "source": [
    "## Condicionales anidados\n",
    "\n",
    "Los condicionales se pueden anidar como en cualquier otro lenguaje de programación. Sin embargo lo recomendable es no tener que recurrir a condicionales anidados.\n",
    "\n",
    "````python\n",
    "if condicion:\n",
    "    haz esto\n",
    "    if condicion2:\n",
    "        haz tambien esto\n",
    "```"
   ]
  },
  {
   "cell_type": "code",
   "execution_count": 5,
   "metadata": {},
   "outputs": [
    {
     "name": "stdout",
     "output_type": "stream",
     "text": [
      "A es cero\n"
     ]
    }
   ],
   "source": [
    "# Condicionales anidados\n",
    "\n",
    "a = 0\n",
    "if a > 0:\n",
    "    if a > 5 == 0:\n",
    "        print('A es positivo y mayor que 5')\n",
    "    else:\n",
    "        print('A es positivo')\n",
    "elif a == 0:\n",
    "    print('A es cero')\n",
    "else:\n",
    "    print('A es negativo')"
   ]
  },
  {
   "cell_type": "markdown",
   "metadata": {},
   "source": [
    "## Condicionales con operadores lógicos\n",
    "\n",
    "- Se pueden utilizar los operadores lógicos *and* *or* *not*, junto con los operadores *is* e *in* para elaborar condiciones complejas.\n"
   ]
  },
  {
   "cell_type": "code",
   "execution_count": 6,
   "metadata": {},
   "outputs": [
    {
     "name": "stdout",
     "output_type": "stream",
     "text": [
      "Número positivo mayor o igual a 5\n",
      "['pedro', 'daniel', 'josé', 'teresa', 'arturo', 'manuel']\n"
     ]
    }
   ],
   "source": [
    "## Condiciones con operadores \n",
    "\n",
    "a=20\n",
    "\n",
    "if type(a) == int or type(a) == float:\n",
    "    if a > 0 and a < 5:\n",
    "        print(\"Número positivo menor de 5\")\n",
    "    elif a >= 5:\n",
    "        print(\"Número positivo mayor o igual a 5\")\n",
    "    elif a == 0:\n",
    "        print(\"Número igual a cero\")\n",
    "    else:\n",
    "        print(\"Número negativo\")\n",
    "else:\n",
    "    print(\"No es un número\")\n",
    "\n",
    "nombres = [\"pedro\", \"daniel\", \"josé\", \"teresa\", \"arturo\"]\n",
    "\n",
    "if \"manuel\" not in nombres:\n",
    "    nombres.append(\"manuel\")\n",
    "\n",
    "print(nombres)"
   ]
  },
  {
   "cell_type": "markdown",
   "metadata": {},
   "source": [
    "## Lectura de datos por teclado con *input*\n",
    "\n",
    "- *input(\"mensaje al usuario\")*: Sirve para pedir al usuario que introduzca datos por teclado. Siempre devuelve una cadena de texto.\n"
   ]
  },
  {
   "cell_type": "code",
   "execution_count": 4,
   "metadata": {},
   "outputs": [
    {
     "name": "stdout",
     "output_type": "stream",
     "text": [
      "Número positivo mayor o igual a 5\n"
     ]
    }
   ],
   "source": [
    "# Ejemplo de entrada de datos por teclado\n",
    "\n",
    "entrada = input(\"Introduce un número entero: \")\n",
    "\n",
    "if entrada.isnumeric():\n",
    "    a = int(entrada)\n",
    "\n",
    "    if a > 0 and a < 5:\n",
    "        print(\"Número positivo menor de 5\")\n",
    "    elif a >= 5:\n",
    "        print(\"Número positivo mayor o igual a 5\")\n",
    "    elif a == 0:\n",
    "        print(\"Número igual a cero\")\n",
    "    else:\n",
    "        print(\"Número negativo\")\n",
    "else:\n",
    "    print(\"No es un número entero\")\n",
    "\n"
   ]
  },
  {
   "cell_type": "markdown",
   "metadata": {},
   "source": [
    "## Un poco de gestión de excepciones (A LO BESTIA)\n",
    "\n",
    "- Hay que distinguir *errores de sintaxis* de *excepciones*.\n",
    "- Es recomendable (casi obligatorio) controlar y gestionar las *excepciones* que se puedan dar en tiempo de ejecución.\n",
    "\n",
    "La gestión de excepciones en Python se puede controlar con *try*-*except*.\n",
    "\n",
    "```python\n",
    "try\n",
    "    intenta hacer esto\n",
    "except tipoExcepcion:\n",
    "    ejecuta esto otro si se produce una excepción de tipoExcepcion\n",
    "```"
   ]
  },
  {
   "cell_type": "code",
   "execution_count": 10,
   "metadata": {},
   "outputs": [
    {
     "name": "stdout",
     "output_type": "stream",
     "text": [
      "No es un número. Debes introducir un número.\n"
     ]
    }
   ],
   "source": [
    "# Ejemplo de gestión de excepciones\n",
    "\n",
    "entrada = input(\"Introduce un número: \")\n",
    "\n",
    "try:\n",
    "    a = int(entrada) # Esto dará error. Excepción de tipo ValueError si el texto introducido no se puede convertir(casting de variable)\n",
    "    if a > 0 and a < 5:\n",
    "        print(\"Número positivo menor de 5\")\n",
    "    elif a >= 5:\n",
    "        print(\"Número positivo mayor o igual a 5\")\n",
    "    elif a == 0:\n",
    "        print(\"Número igual a cero\")\n",
    "    else:\n",
    "        print(\"Número negativo\")\n",
    "\n",
    "except:\n",
    "    print(\"No es un número. Debes introducir un número.\") # Esto se ejecuta si ocurre cualquier tipo de excepción.\n"
   ]
  },
  {
   "cell_type": "code",
   "execution_count": 1,
   "metadata": {},
   "outputs": [
    {
     "name": "stdout",
     "output_type": "stream",
     "text": [
      "Número positivo mayor o igual a 5\n"
     ]
    }
   ],
   "source": [
    "# Para controlar mejor, es necesario especificar el tipo de excepción.\n",
    "\n",
    "entrada = input(\"Introduce un número: \")\n",
    "\n",
    "try:\n",
    "    a = int(entrada) # Esto dará error. Excepción de tipo ValueError si el texto introducido no se puede convertir(casting de variable)\n",
    "    if a > 0 and a < 5:\n",
    "        print(\"Número positivo menor de 5\")\n",
    "    elif a >= 5:\n",
    "        print(\"Número positivo mayor o igual a 5\")\n",
    "    elif a == 0:\n",
    "        print(\"Número igual a cero\")\n",
    "    else:\n",
    "        print(\"Número negativo\")\n",
    "\n",
    "except ValueError:\n",
    "    print(\"No es un número. Debes introducir un número.\") # Esto se ejecuta si ocurre una excepcion ValueError."
   ]
  }
 ],
 "metadata": {
  "kernelspec": {
   "display_name": "Python 3 (ipykernel)",
   "language": "python",
   "name": "python3"
  },
  "language_info": {
   "codemirror_mode": {
    "name": "ipython",
    "version": 3
   },
   "file_extension": ".py",
   "mimetype": "text/x-python",
   "name": "python",
   "nbconvert_exporter": "python",
   "pygments_lexer": "ipython3",
   "version": "3.10.8"
  },
  "orig_nbformat": 4,
  "vscode": {
   "interpreter": {
    "hash": "148bc2fe2ce836d1207444959a10972eb542baaac3c074ca73e8aeb656ed9f05"
   }
  }
 },
 "nbformat": 4,
 "nbformat_minor": 2
}
