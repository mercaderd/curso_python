{
 "cells": [
  {
   "attachments": {},
   "cell_type": "markdown",
   "metadata": {},
   "source": [
    "# 📗 Lección 07: Listas\n",
    "\n",
    "## Definición\n",
    "\n",
    "Hay cuatro estructuras de datos compuestas en Python: *Listas*, *Tuplas*, *Conjuntos* y *Diccionarios*.\n",
    "\n",
    "**Las listas** :\n",
    "- Se utilizan para agrupar valores.\n",
    "- Se pueden modificar o cambiar los valores, son mutables.\n",
    "- Se pueden ordenar.\n",
    "- Permite valores duplicados.\n",
    "- Puede contener valores de distintos tipos, es decir cualquier tipo de objeto.\n",
    "- Pueden estar vacías.\n",
    "\n",
    "> 📝 **Nota:** Una lista de caracteres es distinto de una cadena de caracteres. Entre otras cosas, las cadenas de caracteres son inmutables y solo pueden contener caracteres, las listas son mutables y pueden contener cualquier tipo de objeto.\n",
    "\n",
    "Se pueden crear usando la función list() o con corchetes []."
   ]
  },
  {
   "cell_type": "code",
   "execution_count": 1,
   "metadata": {},
   "outputs": [
    {
     "name": "stdout",
     "output_type": "stream",
     "text": [
      "[]\n",
      "[]\n",
      "<class 'list'>\n",
      "<class 'list'>\n",
      "[3, 4, 5, 6, 6, 6, 6]\n",
      "['queso', 'plátano', '🎈', 35, 44, 2.2, None, 'uno']\n",
      "<class 'list'>\n",
      "<class 'list'>\n"
     ]
    }
   ],
   "source": [
    "# Creación de listas vacías\n",
    "\n",
    "mi_lista = [] # Esto es una lista vacía\n",
    "mi_otra_lista = list() # Esto es otra lista vacía\n",
    "\n",
    "print(mi_lista)\n",
    "print(mi_otra_lista)\n",
    "\n",
    "print(type(mi_lista))\n",
    "print(type(mi_otra_lista))\n",
    "\n",
    "# Creación de listas con valores iniciales\n",
    "\n",
    "mi_lista = [3,4,5,6, 6, 6, 6] # Pueden tener elementos repetidos\n",
    "mi_otra_lista = [\"queso\", \"plátano\", \"🎈\", 35, 44, 2.2, None, \"uno\"] # Puenden contener elementos de distinto tipo\n",
    "\n",
    "print(mi_lista)\n",
    "print(mi_otra_lista)\n",
    "\n",
    "print(type(mi_lista))\n",
    "print(type(mi_otra_lista))\n"
   ]
  },
  {
   "cell_type": "markdown",
   "metadata": {},
   "source": [
    "Se puede utilizar la función *len()* para saber el número de elementos de una lista."
   ]
  },
  {
   "cell_type": "code",
   "execution_count": 2,
   "metadata": {},
   "outputs": [
    {
     "name": "stdout",
     "output_type": "stream",
     "text": [
      "Lista: [3, 4, 5, 6, 6, 6, 6]\n",
      "Número de elementos: 7\n",
      "Lista: ['queso', 'plátano', '🎈', 35, 44, 2.2, None, 'uno']\n",
      "Número de elementos: 8\n"
     ]
    }
   ],
   "source": [
    "# Número de elementos de una lista\n",
    "\n",
    "print(\"Lista:\", mi_lista)\n",
    "print(f\"Número de elementos: {len(mi_lista)}\")\n",
    "\n",
    "print(\"Lista:\", mi_otra_lista)\n",
    "print(f\"Número de elementos: {len(mi_otra_lista)}\")\n"
   ]
  },
  {
   "cell_type": "markdown",
   "metadata": {},
   "source": [
    "## Accediendo a los elementos de una lista\n",
    "\n",
    "- Se puede acceder a los elementos de una lista mediante el índice de cada uno de ellos. \n",
    "- Al igual que en las cadenas el índice del primer elemento es 0.\n",
    "- Se pueden utilizar índices negativos."
   ]
  },
  {
   "cell_type": "code",
   "execution_count": 3,
   "metadata": {},
   "outputs": [
    {
     "name": "stdout",
     "output_type": "stream",
     "text": [
      "Lista: [3, 4, 5, 6, 6, 6, 6]\n",
      "El primer elemento de la lista es 3\n",
      "El último elemento de la lista es 6\n",
      "Lista: ['queso', 'plátano', '🎈', 35, 44, 2.2, None, 'uno']\n",
      "El tercer elemento de la lista es 🎈\n"
     ]
    }
   ],
   "source": [
    "# Accediendo a los elementos de una lista\n",
    "\n",
    "primer_elemento = mi_lista[0]\n",
    "ultimo_elemento = mi_lista[-1] # Se pueden utilizar índices negativos\n",
    "\n",
    "print(f\"Lista: {mi_lista}\")\n",
    "print(f\"El primer elemento de la lista es {primer_elemento}\")\n",
    "print(f\"El último elemento de la lista es {ultimo_elemento}\")\n",
    "\n",
    "tercer_elemento = mi_otra_lista[2]\n",
    "\n",
    "print(f\"Lista: {mi_otra_lista}\")\n",
    "print(f\"El tercer elemento de la lista es {tercer_elemento}\")\n"
   ]
  },
  {
   "cell_type": "markdown",
   "metadata": {},
   "source": [
    "- Se pueden desempaquetar los elementos.\n",
    "- Se pueden cambiar los elementos de una lista."
   ]
  },
  {
   "cell_type": "code",
   "execution_count": 4,
   "metadata": {},
   "outputs": [
    {
     "name": "stdout",
     "output_type": "stream",
     "text": [
      "Lista inicial: ['queso', 'plátano', '🎈', 35, 44, 2.2, None, 'uno']\n",
      "El tercer elemento de la lista es 🎈\n",
      "Lista cambiada: ['queso', 'plátano', 'globo', 35, 44, 2.2, None, 'uno']\n",
      "El tercer elemento de la lista es globo\n"
     ]
    }
   ],
   "source": [
    "# Desempaquetando elementos de una lista\n",
    "print(f\"Lista inicial: {mi_otra_lista}\")\n",
    "primero, segundo, tercero, cuarto, quinto, sexto, septimo, octavo = mi_otra_lista\n",
    "print(f\"El tercer elemento de la lista es {tercero}\")\n",
    "\n",
    "# Cambiando elementos de una lista\n",
    "\n",
    "mi_otra_lista[2]=\"globo\"\n",
    "print(f\"Lista cambiada: {mi_otra_lista}\")\n",
    "primero, segundo, tercero, cuarto, quinto, sexto, septimo, octavo = mi_otra_lista\n",
    "print(f\"El tercer elemento de la lista es {tercero}\")\n",
    "\n",
    "\n",
    "\n"
   ]
  },
  {
   "cell_type": "markdown",
   "metadata": {},
   "source": [
    "## Accediendo a partes de una lista - Slicing\n",
    "\n",
    "- Se puede acceder u obtener un subconjunto de los elementos de una lista mediante slicing. Igual que con las cadenas, utilizando [*inicial*:*final*:*pasos*].\n",
    "- Por defecto, *inicial* será 0 (el primer elemento), *final* será -1 (el último elemento) y *pasos* será 1.\n",
    "- Se pueden utilizar índices negativos.\n",
    "- Acceder a los elementos por slicing no implica cambiar la lista.\n"
   ]
  },
  {
   "cell_type": "code",
   "execution_count": 5,
   "metadata": {},
   "outputs": [
    {
     "name": "stdout",
     "output_type": "stream",
     "text": [
      "La lista completa es: ['queso', 'plátano', 'globo', 35, 44, 2.2, None, 'uno']\n",
      "Dos primeros elementos: ['queso', 'plátano']\n",
      "Todos los elementos desde el tercero hasta el final: ['globo', 35, 44, 2.2, None, 'uno']\n",
      "Uno de cada dos elementos desde el primero: ['queso', 'globo', 44, None]\n",
      "Lista invertida: ['uno', None, 2.2, 44, 35, 'globo', 'plátano', 'queso']\n",
      "La lista modificada es: ['uno', 'dos', 'globo', 35, 44, 2.2, None, 'uno']\n"
     ]
    }
   ],
   "source": [
    "# Accediendo a partes de una lista - Slicing\n",
    "\n",
    "print(f\"La lista completa es: {mi_otra_lista}\")\n",
    "\n",
    "print(f\"Dos primeros elementos: {mi_otra_lista[:2]}\") \n",
    "print(f\"Todos los elementos desde el tercero hasta el final: {mi_otra_lista[2:]}\")\n",
    "print(f\"Uno de cada dos elementos desde el primero: {mi_otra_lista[::2]}\")\n",
    "print(f\"Lista invertida: {mi_otra_lista[::-1]}\")\n",
    "\n",
    "# Se puede cambiar una parte de la lista\n",
    "mi_otra_lista[:2] = [\"uno\", \"dos\"]\n",
    "print(f\"La lista modificada es: {mi_otra_lista}\")"
   ]
  },
  {
   "cell_type": "markdown",
   "metadata": {},
   "source": [
    "## Comprobando si un elemento está en la lista\n",
    "\n",
    "- Se puede utilizar el operador *in* para comprobar si un elemento está en la lista."
   ]
  },
  {
   "cell_type": "code",
   "execution_count": 6,
   "metadata": {},
   "outputs": [
    {
     "name": "stdout",
     "output_type": "stream",
     "text": [
      "True\n",
      "True\n",
      "True\n",
      "True\n",
      "False\n"
     ]
    }
   ],
   "source": [
    "# Comprobando si un elemento está en la lista\n",
    "\n",
    "globo_en_lista = \"globo\" in mi_otra_lista\n",
    "print(globo_en_lista)\n",
    "\n",
    "none_en_lista = None in mi_otra_lista\n",
    "print(none_en_lista)\n",
    "\n",
    "num_en_lista = 35 in mi_otra_lista\n",
    "print(num_en_lista)\n",
    "\n",
    "num_en_lista = 2.2 in mi_otra_lista\n",
    "print(num_en_lista)\n",
    "\n",
    "cabra_en_lista = \"cabra\" in mi_otra_lista\n",
    "print(cabra_en_lista)\n"
   ]
  },
  {
   "cell_type": "markdown",
   "metadata": {},
   "source": [
    "## Concatenar listas\n",
    "\n",
    "- Se pueden concatenar listas utilizando el operador *+*."
   ]
  },
  {
   "cell_type": "code",
   "execution_count": 7,
   "metadata": {},
   "outputs": [
    {
     "name": "stdout",
     "output_type": "stream",
     "text": [
      "Mi lista completa es: [3, 4, 5, 6, 6, 6, 6, 'uno', 'dos', 'globo', 35, 44, 2.2, None, 'uno']\n"
     ]
    }
   ],
   "source": [
    "# Concatenar listas\n",
    "\n",
    "mi_lista_completa = mi_lista + mi_otra_lista\n",
    "\n",
    "print(f\"Mi lista completa es: {mi_lista_completa}\")"
   ]
  },
  {
   "cell_type": "markdown",
   "metadata": {},
   "source": [
    "## Añadir elementos a la lista\n",
    "\n",
    " - Para añadir elementos a una lista se puede utilizar el método *append()*"
   ]
  },
  {
   "cell_type": "code",
   "execution_count": 8,
   "metadata": {},
   "outputs": [
    {
     "name": "stdout",
     "output_type": "stream",
     "text": [
      "Mi lista: [3, 4, 5, 6, 6, 6, 6]\n",
      "Mi lista con elemento añadido: [3, 4, 5, 6, 6, 6, 6, 'hola']\n",
      "Mi lista con elemento añadido: [3, 4, 5, 6, 6, 6, 6, 'hola', ['elemento1', 'elemento2']]\n"
     ]
    }
   ],
   "source": [
    "# Añadir elementos a una lista\n",
    "\n",
    "print(f\"Mi lista: {mi_lista}\")\n",
    "mi_lista.append(\"hola\")\n",
    "print(f\"Mi lista con elemento añadido: {mi_lista}\")\n",
    "\n",
    "# Una lista puede tener como elementos otras listas\n",
    "\n",
    "mi_lista.append([\"elemento1\", \"elemento2\"])\n",
    "print(f\"Mi lista con elemento añadido: {mi_lista}\")"
   ]
  },
  {
   "cell_type": "markdown",
   "metadata": {},
   "source": [
    "## Insertar elementos en una lista\n",
    "\n",
    "- Se pueden insertar elementos en una posición determinada con el método *insert(item)*"
   ]
  },
  {
   "cell_type": "code",
   "execution_count": 9,
   "metadata": {},
   "outputs": [
    {
     "name": "stdout",
     "output_type": "stream",
     "text": [
      "Mi lista: [3, 4, 5, 6, 6, 6, 6, 'hola', ['elemento1', 'elemento2']]\n",
      "Mi lista con elemento añadido: [3, 'segundo_insertado', 4, 5, 6, 6, 6, 6, 'hola', ['elemento1', 'elemento2']]\n"
     ]
    }
   ],
   "source": [
    "# Insertar elementos\n",
    "\n",
    "print(f\"Mi lista: {mi_lista}\")\n",
    "mi_lista.insert(1, \"segundo_insertado\") #Insertando un elemento en segunda posición\n",
    "print(f\"Mi lista con elemento añadido: {mi_lista}\")"
   ]
  },
  {
   "cell_type": "markdown",
   "metadata": {},
   "source": [
    "## Eliminando elementos de una lista\n",
    "\n",
    "Hay varios métodos para eliminar elementos de una lista:\n",
    "- *.remove(item)*: Elimina el elemento *item*. Si hay varios elementos iguales, elimina el primero de ellos.\n",
    "- *.pop(index)*: Elimina el elemento en la posición *index* o el útimo elemento si no se especifica. Retorna el elemento eliminado.\n",
    "- *.clear()*: Elimina todos los elementos de una lista.\n",
    "- *del*: Elimina una lista, o cualquier otro tipo de objeto."
   ]
  },
  {
   "cell_type": "code",
   "execution_count": 10,
   "metadata": {},
   "outputs": [
    {
     "name": "stdout",
     "output_type": "stream",
     "text": [
      "Mi lista: [3, 4, 5, 6, 6, 6, 6, 'uno', 'dos', 'globo', 35, 44, 2.2, None, 'uno']\n",
      "Mi lista: [3, 4, 5, 6, 6, 6, 6, 'uno', 'globo', 35, 44, 2.2, None, 'uno']\n",
      "Mi lista: [3, 4, 5, 6, 6, 6, 6, 'globo', 35, 44, 2.2, None, 'uno']\n",
      "Mi lista: [3, 4, 5, 6, 6, 6, 6, 'globo', 35, 44, 2.2, None]\n",
      "Mi lista: [3, 4, 5, 6, 6, 6, 6, 35, 44, 2.2, None]. Se ha eliminado el elemento: globo\n",
      "Mi lista: []\n"
     ]
    }
   ],
   "source": [
    "# Eliminar elementos de una lista\n",
    "\n",
    "print(f\"Mi lista: {mi_lista_completa}\")\n",
    "mi_lista_completa.remove(\"dos\")\n",
    "print(f\"Mi lista: {mi_lista_completa}\")\n",
    "mi_lista_completa.remove(\"uno\") # Si hay varios elementos iguales, elimina el primero de ellos.\n",
    "print(f\"Mi lista: {mi_lista_completa}\")\n",
    "\n",
    "mi_lista_completa.pop() \n",
    "print(f\"Mi lista: {mi_lista_completa}\")\n",
    "\n",
    "elemento = mi_lista_completa.pop(7) \n",
    "print(f\"Mi lista: {mi_lista_completa}. Se ha eliminado el elemento: {elemento}\")\n",
    "\n",
    "mi_lista_completa.clear() \n",
    "print(f\"Mi lista: {mi_lista_completa}\")\n",
    "\n",
    "# Eliminando una lista\n",
    "del mi_lista_completa\n",
    "\n",
    "\n",
    "\n",
    "\n",
    "\n"
   ]
  },
  {
   "cell_type": "markdown",
   "metadata": {},
   "source": [
    "## Copiando listas\n",
    "\n",
    "Para obtener una copia independiente de una lista es necesario utilizar el método *copy()*.\n",
    "\n",
    "> **Nota**: Reasignar una lista a otra lista con el operador *=* no implica una copia de una lista. Por ejemplo, con *lista2=lista1* lista2 será una referencia de lista1. cualquier cambio en lista2, cambiará también lista1."
   ]
  },
  {
   "cell_type": "code",
   "execution_count": 11,
   "metadata": {},
   "outputs": [
    {
     "name": "stdout",
     "output_type": "stream",
     "text": [
      "[1, 2, 5, 6]\n",
      "[1, 2, 5, 6, 'copia independiente']\n",
      "[1, 2, 5, 6]\n"
     ]
    }
   ],
   "source": [
    "# Copiando listas\n",
    "lista1 = [1,2,5]\n",
    "lista2 = lista1 # El operador asignación no realiza una copia.\n",
    "lista2.append(6)\n",
    "print(lista1)\n",
    "\n",
    "lista3 = lista1.copy()\n",
    "lista3.append(\"copia independiente\")\n",
    "print(lista3)\n",
    "print(lista1)"
   ]
  },
  {
   "cell_type": "markdown",
   "metadata": {},
   "source": [
    "## Otros métodos interesantes\n",
    "\n",
    "- *.reverse()*: Invierte el orden de los elementos de una lista, modificando la lista.\n",
    "- *.sort()*: Ordena los elementos de una lista en orden ascendente, modificando la lista.\n",
    "- *.index(item)*: Devuelve el índice del elemento *item* en una lista.\n",
    "- *.count(item)*: Devuelve el número de veces que el elemento *item* está en una lista.\n"
   ]
  },
  {
   "cell_type": "markdown",
   "metadata": {},
   "source": []
  }
 ],
 "metadata": {
  "kernelspec": {
   "display_name": "Python 3 (ipykernel)",
   "language": "python",
   "name": "python3"
  },
  "language_info": {
   "codemirror_mode": {
    "name": "ipython",
    "version": 3
   },
   "file_extension": ".py",
   "mimetype": "text/x-python",
   "name": "python",
   "nbconvert_exporter": "python",
   "pygments_lexer": "ipython3",
   "version": "3.10.8"
  },
  "orig_nbformat": 4,
  "vscode": {
   "interpreter": {
    "hash": "148bc2fe2ce836d1207444959a10972eb542baaac3c074ca73e8aeb656ed9f05"
   }
  }
 },
 "nbformat": 4,
 "nbformat_minor": 2
}
