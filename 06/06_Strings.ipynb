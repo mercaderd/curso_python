{
 "cells": [
  {
   "attachments": {},
   "cell_type": "markdown",
   "metadata": {},
   "source": [
    "# 📗 Lección 06: Strings - Cadenas de caracteres\n",
    "\n",
    "## Definición\n",
    "\n",
    "Las cadenas de caracteres se representan en python con objetos *str*. Se pueden definir entre comillas dobles o comillas sencillas, es inditinto."
   ]
  },
  {
   "cell_type": "code",
   "execution_count": 1,
   "metadata": {},
   "outputs": [],
   "source": [
    "# Definición de cadenas de caracteres (strings)\n",
    "mi_cadena = \"Esto es una cadena de texto\"\n",
    "otra_cadena = 'Esto es otra cadena de texto'"
   ]
  },
  {
   "attachments": {},
   "cell_type": "markdown",
   "metadata": {},
   "source": [
    "También se pueden definir entre triples comillas (dobles o sencillas) para textos multilínea.\n"
   ]
  },
  {
   "cell_type": "code",
   "execution_count": 2,
   "metadata": {},
   "outputs": [],
   "source": [
    "# Definición de cadenas multilínea\n",
    "mi_cadena_multi = \"\"\"Esto es una \n",
    "cadena de texto multilínea\"\"\"\n",
    "otra_cadena_multi = '''Esto es otra \n",
    "cadena de texto multilínea'''"
   ]
  },
  {
   "cell_type": "markdown",
   "metadata": {},
   "source": [
    "Se puede imprimir el contenido de una cadena de caracteres o imprimir la logitud de la cadena de texto."
   ]
  },
  {
   "cell_type": "code",
   "execution_count": 3,
   "metadata": {},
   "outputs": [
    {
     "name": "stdout",
     "output_type": "stream",
     "text": [
      "Esto es una cadena de texto\n",
      "Esto es otra cadena de texto\n",
      "Esto es una \n",
      "cadena de texto multilínea\n",
      "Esto es otra \n",
      "cadena de texto multilínea\n",
      "27\n",
      "39\n"
     ]
    }
   ],
   "source": [
    "# Imprimir cadenas de caracteres\n",
    "print(mi_cadena)\n",
    "print(otra_cadena)\n",
    "print(mi_cadena_multi)\n",
    "print(otra_cadena_multi)\n",
    "\n",
    "# Imprimir la longitud de cadenas de caracteres\n",
    "print(len(mi_cadena))\n",
    "print(len(mi_cadena_multi))"
   ]
  },
  {
   "cell_type": "markdown",
   "metadata": {},
   "source": [
    "Una cadena de texto puede contener números, pero sigue siendo una cadena de texto. Una cadena de texto que contiene números puede ser convertida a una variable de tipo entero con *int()*. Un número entero puede ser convertido a cadena de texto con *str()*."
   ]
  },
  {
   "cell_type": "code",
   "execution_count": 4,
   "metadata": {},
   "outputs": [
    {
     "name": "stdout",
     "output_type": "stream",
     "text": [
      "<class 'str'>\n",
      "995\n",
      "<class 'int'>\n",
      "995\n"
     ]
    }
   ],
   "source": [
    "# Esto es una cadena de caracteres que contiene números\n",
    "asistentes = \"995\"\n",
    "print(type(asistentes))\n",
    "print(asistentes)\n",
    "asistentes_int = int(asistentes)\n",
    "print(type(asistentes_int))\n",
    "print(str(asistentes_int))"
   ]
  },
  {
   "cell_type": "markdown",
   "metadata": {},
   "source": [
    "Se puede pedir al usuario que introduzca datos con *input()*, que los leerá siempre como string. Luego se pueden convertir al tipo de variable más conveniente."
   ]
  },
  {
   "cell_type": "code",
   "execution_count": 5,
   "metadata": {},
   "outputs": [
    {
     "ename": "ValueError",
     "evalue": "could not convert string to float: ''",
     "output_type": "error",
     "traceback": [
      "\u001b[0;31m---------------------------------------------------------------------------\u001b[0m",
      "\u001b[0;31mValueError\u001b[0m                                Traceback (most recent call last)",
      "Cell \u001b[0;32mIn[5], line 4\u001b[0m\n\u001b[1;32m      2\u001b[0m n1 \u001b[39m=\u001b[39m \u001b[39minput\u001b[39m(\u001b[39m\"\u001b[39m\u001b[39mIntroduzca su nota en matemáticas: \u001b[39m\u001b[39m\"\u001b[39m)\n\u001b[1;32m      3\u001b[0m n2 \u001b[39m=\u001b[39m \u001b[39minput\u001b[39m(\u001b[39m\"\u001b[39m\u001b[39mIntroduzca su nota en lengua: \u001b[39m\u001b[39m\"\u001b[39m)\n\u001b[0;32m----> 4\u001b[0m media \u001b[39m=\u001b[39m (\u001b[39mfloat\u001b[39;49m(n1) \u001b[39m+\u001b[39m \u001b[39mfloat\u001b[39m(n2)) \u001b[39m/\u001b[39m \u001b[39m2\u001b[39m\n\u001b[1;32m      5\u001b[0m \u001b[39mprint\u001b[39m(\u001b[39m\"\u001b[39m\u001b[39mSu nota media es: \u001b[39m\u001b[39m\"\u001b[39m \u001b[39m+\u001b[39m \u001b[39mstr\u001b[39m(media))\n",
      "\u001b[0;31mValueError\u001b[0m: could not convert string to float: ''"
     ]
    }
   ],
   "source": [
    "# Leer datos del usuario y convertir al tipo de variable necesario\n",
    "n1 = input(\"Introduzca su nota en matemáticas: \")\n",
    "n2 = input(\"Introduzca su nota en lengua: \")\n",
    "media = (float(n1) + float(n2)) / 2\n",
    "print(\"Su nota media es: \" + str(media))"
   ]
  },
  {
   "attachments": {},
   "cell_type": "markdown",
   "metadata": {},
   "source": [
    "## Concatenación de cadenas de caracteres\n",
    "\n",
    "Las cadenas de caracteres se pueden concatenar con el operador +. Otros operadores también pueden aplicarse a cadenas de caracteres.\n"
   ]
  },
  {
   "cell_type": "code",
   "execution_count": null,
   "metadata": {},
   "outputs": [
    {
     "name": "stdout",
     "output_type": "stream",
     "text": [
      "Esto es una cadena de texto  🎉 CONCATENADA CON  🎉 Esto es otra cadena de texto\n",
      "La cadena de texto 'Esto es una cadena de texto' tiene una longitud de 27 caracteres\n"
     ]
    }
   ],
   "source": [
    "# Concatenar cadenas de caracteres\n",
    "concatenada = mi_cadena + '  🎉 CONCATENADA CON  🎉 ' + otra_cadena\n",
    "print(concatenada)\n",
    "\n",
    "# Algunas variables se pueden convertir a cadena de caracteres con str(variable) y concatenar con otras cadenas de caracteres\n",
    "print(\"La cadena de texto '\" + mi_cadena +\"' tiene una longitud de \" + str(len(mi_cadena)) + \" caracteres\")"
   ]
  },
  {
   "attachments": {},
   "cell_type": "markdown",
   "metadata": {},
   "source": [
    "## Caracteres especiales\n",
    "\n",
    "Las cadenas pueden incluir caracteres especiales. Por ejmplo, _salto de línea_ (\\n), _retorno de carro_ (\\r) y _tabulación_ (\\t).\n",
    "\n",
    "💡 La barra invertida \\ indica que el siguiente caracter es uno especial. Si se quiere utilizar una \\ en el texto será necesario incluir dos barras invertidas \\\\.\n",
    "\n",
    "Ejemplos:"
   ]
  },
  {
   "cell_type": "code",
   "execution_count": 6,
   "metadata": {},
   "outputs": [
    {
     "name": "stdout",
     "output_type": "stream",
     "text": [
      "Cadena con salto \n",
      " de línea\n",
      "\tCadena tabulada\n",
      "\\Esto es una cadena con barras invertidas\\\n",
      "\n",
      "Primera línea\n",
      "\tSegunda línea tabulada\n"
     ]
    }
   ],
   "source": [
    "# Caracteres especiales\n",
    "cadena_salto_linea = \"Cadena con salto \\n de línea\"\n",
    "cadena_tabulada = \"\\tCadena tabulada\"\n",
    "print(cadena_salto_linea)\n",
    "print(cadena_tabulada)\n",
    "\n",
    "cadena_escapada = \"\\\\Esto es una cadena con barras invertidas\\\\\"\n",
    "print(cadena_escapada)\n",
    "\n",
    "otro_ejemplo = \"\\n\" + \"Primera línea\" + \"\\n\" + \"\\tSegunda línea tabulada\"\n",
    "print(otro_ejemplo)"
   ]
  },
  {
   "attachments": {},
   "cell_type": "markdown",
   "metadata": {},
   "source": [
    "## Imprimir cadenas con formato (combinando otras variables)\n",
    "\n",
    "Aunque es posible concatenar cadenas, el objeto str tiene opciones para formatear cadenas de texto. Se puede utilizar el método *format*, el operador *%* o f-strings.\n",
    "\n",
    "Ejemplos:"
   ]
  },
  {
   "cell_type": "code",
   "execution_count": 7,
   "metadata": {},
   "outputs": [
    {
     "name": "stdout",
     "output_type": "stream",
     "text": [
      "Me llamo Bob El Silencioso y mi edad es 29 años\n",
      "Me llamo Bob El Silencioso y mi edad es 29 años\n",
      "Me llamo Bob El Silencioso y mi edad es 29 años\n",
      "¿num es par? False\n"
     ]
    }
   ],
   "source": [
    "# Imprimir cadenas de texto con formato\n",
    "nombre, apellido, edad = \"Bob\", \"El Silencioso\", 29\n",
    "print(\"Me llamo {} {} y mi edad es {} años\".format(nombre, apellido, edad))\n",
    "print(\"Me llamo %s %s y mi edad es %d años\" % (nombre, apellido, edad))\n",
    "\n",
    "# Formateo avanzado con f-strings\n",
    "print(f\"Me llamo {nombre} {apellido} y mi edad es {edad} años\")\n",
    "\n",
    "num = 87\n",
    "print(f\"¿num es par? {True if num%2==0 else False}\")\n"
   ]
  },
  {
   "cell_type": "markdown",
   "metadata": {},
   "source": [
    "## Acceso a elementos internos de las cardenas\n",
    "\n",
    "- Se puede acceder a los caracteres individuales de una cadena utilizando un índice entre corchetes. Ej: cadena[3]\n",
    "- El índice debe ser un entero, comenzando por cero (primer caracter).\n"
   ]
  },
  {
   "cell_type": "code",
   "execution_count": 8,
   "metadata": {},
   "outputs": [
    {
     "name": "stdout",
     "output_type": "stream",
     "text": [
      "Esto es una cadena de texto\n",
      "E\n",
      "o\n"
     ]
    },
    {
     "ename": "IndexError",
     "evalue": "string index out of range",
     "output_type": "error",
     "traceback": [
      "\u001b[0;31m---------------------------------------------------------------------------\u001b[0m",
      "\u001b[0;31mIndexError\u001b[0m                                Traceback (most recent call last)",
      "Cell \u001b[0;32mIn[8], line 7\u001b[0m\n\u001b[1;32m      4\u001b[0m \u001b[39mprint\u001b[39m(mi_cadena[\u001b[39m3\u001b[39m]) \u001b[39m# Acceso al cuarto caracter\u001b[39;00m\n\u001b[1;32m      6\u001b[0m \u001b[39m# Utilizar un índice mayor que la longitud de la cadena provoca un error\u001b[39;00m\n\u001b[0;32m----> 7\u001b[0m \u001b[39mprint\u001b[39m(mi_cadena[\u001b[39m100\u001b[39;49m]) \u001b[39m# ¡Ojo! ¡Esto de error!\u001b[39;00m\n",
      "\u001b[0;31mIndexError\u001b[0m: string index out of range"
     ]
    }
   ],
   "source": [
    "#Acceso a elementos internos mediante índice\n",
    "print(mi_cadena)\n",
    "print(mi_cadena[0]) # Acceso al primer caracter\n",
    "print(mi_cadena[3]) # Acceso al cuarto caracter\n",
    "\n",
    "# Utilizar un índice mayor que la longitud de la cadena provoca un error\n",
    "print(mi_cadena[100]) # ¡Ojo! ¡Esto de error!\n"
   ]
  },
  {
   "cell_type": "markdown",
   "metadata": {},
   "source": [
    "- Los índices pueden ser el resultado de una expresión."
   ]
  },
  {
   "cell_type": "code",
   "execution_count": 9,
   "metadata": {},
   "outputs": [
    {
     "name": "stdout",
     "output_type": "stream",
     "text": [
      "Esto es una cadena de texto\n",
      "o\n"
     ]
    }
   ],
   "source": [
    "# Se puende utilizar expresiones para indicar los índices, por ejemplo a partir de len()\n",
    "print(mi_cadena)\n",
    "print(mi_cadena[len(mi_cadena) - 1])"
   ]
  },
  {
   "cell_type": "markdown",
   "metadata": {},
   "source": [
    "## Subcadenas o slices\n",
    "\n",
    "- También se puede acceder a partes de una cadena de texto (slices). Entre corchetes se indica el índice inicial y el índice final separados por *:*. Ejemplo: mi_cadena[2:5]\n",
    "- Si se deja en blanco el índice inicial, se considera el inicio de la cadena.\n",
    "- Si se deja en blanco el índie final, se considera el final de la cadena.\n",
    "- Si se dejan ambos en blanco, se considera la cadena completa."
   ]
  },
  {
   "cell_type": "code",
   "execution_count": 10,
   "metadata": {},
   "outputs": [
    {
     "name": "stdout",
     "output_type": "stream",
     "text": [
      "Esto es una cadena de texto\n",
      "es una ca\n",
      "Esto es un\n",
      "a cadena de texto\n",
      "Esto es una cadena de texto\n"
     ]
    }
   ],
   "source": [
    "# Subcadenas o Slices\n",
    "print(mi_cadena)\n",
    "print(mi_cadena[5:14])\n",
    "print(mi_cadena[:10])\n",
    "print(mi_cadena[10:])\n",
    "print(mi_cadena[:])"
   ]
  },
  {
   "cell_type": "markdown",
   "metadata": {},
   "source": [
    "- Se pueden especificar índices negativos y se comienza a contar desde el final de la cadena, Ej: *-1* será el índice del penúltimo caracter."
   ]
  },
  {
   "cell_type": "code",
   "execution_count": 11,
   "metadata": {},
   "outputs": [
    {
     "name": "stdout",
     "output_type": "stream",
     "text": [
      "a cadena de text\n"
     ]
    }
   ],
   "source": [
    "# Indicando números negativos el índice comienza a contar desde el final de la cadena. Ej: -1 será el índice del penúltimo caracter.\n",
    "print(mi_cadena[10:-1])"
   ]
  },
  {
   "cell_type": "markdown",
   "metadata": {},
   "source": [
    "- Un tercer índice se puede especificar para indicar saltos en la selección de caracteres o que se recorra en orden inverso."
   ]
  },
  {
   "cell_type": "code",
   "execution_count": 12,
   "metadata": {},
   "outputs": [
    {
     "name": "stdout",
     "output_type": "stream",
     "text": [
      "t su\n",
      "otxet ed anedac anu se otsE\n",
      "otxet ed anedac \n"
     ]
    }
   ],
   "source": [
    "# Seleccionar uno de cada dos caracteres entre el rango especificado\n",
    "print(mi_cadena[2:10:2])\n",
    "\n",
    "# Especificar orden invertido con *-1* como tercer índice.\n",
    "print(mi_cadena[::-1])\n",
    "print(mi_cadena[:10:-1])"
   ]
  },
  {
   "cell_type": "markdown",
   "metadata": {},
   "source": [
    "## Métodos de las cadenas de caracteres\n",
    "\n",
    "Los objetos cadena de texto tienen métodos muy útiles. Están disponibles para cualquier cadena. \n",
    "\n",
    "👁‍🗨 **No modifican la cadena original, devuelven una nueva cadena.**\n",
    "\n",
    "- **.capitalize()**: Retorna una copia de la cadena con el primer carácter en mayúsculas y el resto en minúsculas. \n",
    "- **.upper()**: Devuelve copia de la cadena con todos los caracteres en mayúscula. (Si tienen forma mayúscula)\n",
    "- **.count(sub[,start[, end]])**: Devuelve el número de ocurrencias no solapadas de la cadena sub en el rango [start, end]. Los parámetros opcionales start y end Se interpretan como en una expresión de rebanada.\n",
    "- **.isnumeric()**: Retorna True si todos los caracteres de la cadena son caracteres numéricos y hay, al menos, un carácter. En caso contrario, retorna False.\n",
    "- **.lower()**: Retorna una copia de la cadena de caracteres con todas las letras en minúsculas\n",
    "- **.startswith(prefix[, start[, end]])**: Retorna True si la cadena empieza por prefix, en caso contrario Retorna False.\n",
    "- **.strip([chars])**: Retorna una copia de la cadena con los caracteres indicados eliminados, tanto si están al principio como al final de la cadena. El parámetro chars especifica el conjunto de caracteres a eliminar. Si se omite o si se especifica None, se eliminan todos los espacios en blanco.\n",
    "- **.rstrip([chars])**: Retorna una copia de la cadena, eliminado determinados caracteres si se encuentren al final. El parámetro chars especifica el conjunto de caracteres a eliminar. Si se omite o si se especifica None, se eliminan todos los espacios en blanco.\n",
    "- **.lstrip([chars])**: Igual que la anterior pero si los caracteres al principio.\n",
    "- **.split(sep=None, maxsplit=- 1)**: Retorna una lista con las palabras que componen la cadena de caracteres original, usando como separador el valor de sep.\n",
    "- **.replace(old, new[, count])**: Retorna una copia de la cadena con todas las ocurrencias de la cadena old sustituidas por new. Si se utiliza el parámetro count, solo se cambian las primeras count ocurrencias.\n",
    "- **.find(sub[, start[, end]])**: Retorna el menor índice de la cadena s donde se puede encontrar la cadena sub, considerando solo el intervalo s[start:end]. Los parámetros opcionales start y end se interpretan como si fueran “indices de una rebanada. retorna -1 si no se encuentra la cadena.\n",
    "\n",
    "El resto se pueden consultar en la documentación o en la [ayuda](https://docs.python.org/es/3.10/library/stdtypes.html#string-methods) de Python."
   ]
  },
  {
   "cell_type": "code",
   "execution_count": 13,
   "metadata": {},
   "outputs": [
    {
     "name": "stdout",
     "output_type": "stream",
     "text": [
      "esto es una cadena\n",
      "Esto es una cadena\n",
      "esto es una cadena\n",
      "-------------\n",
      "ESTO ES UNA CADENA\n",
      "esto es una cadena\n",
      "-------------\n",
      "4\n",
      "3\n",
      "6\n",
      "-------------\n",
      "¿Cadena de Texto?\n",
      "Cadena de Texto\n",
      "-------------\n",
      "4\n",
      "8\n",
      "-1\n",
      "-------------\n"
     ]
    }
   ],
   "source": [
    "# Métodos de cadenas de caracteres\n",
    "\n",
    "c1 = \"esto es una cadena\"\n",
    "c2 = \"123\"\n",
    "c3 = \"id;username;passwd;email;address\"\n",
    "c4 = \"EstohiEshiUnahiCadenahiDehiCaractereshiHipnótica\"\n",
    "c5 = \"       ¿Cadena de Texto?        \"\n",
    "\n",
    "# Mayusculas y minúsculas\n",
    "c1.capitalize()\n",
    "print(c1) # c1 no ha sido modificada\n",
    "cap1 = c1.capitalize()\n",
    "print (cap1)\n",
    "print(cap1.lower())\n",
    "print(\"-------------\")\n",
    "\n",
    "upp1 = c1.upper()\n",
    "print(upp1)\n",
    "print(upp1.lower())\n",
    "print(\"-------------\")\n",
    "\n",
    "# Contar ocurrencias\n",
    "print(c3.count(';')) # Contar número de ; en c3\n",
    "print(c1.count(' ')) # Contar número de espacios en blanco\n",
    "print(c4.count('hi'))\n",
    "print(\"-------------\")\n",
    "\n",
    "# Eliminar ocurrencias\n",
    "print(c5.strip())\n",
    "print(c5.strip(\" ¿?\"))\n",
    "print(\"-------------\")\n",
    "\n",
    "# Encontrar ocurrencias\n",
    "print(c4.find('hi'))\n",
    "print(c4.find('hi',5))\n",
    "print(c5.find('hi')) # Devuelve -1 si no hay ocurrencias\n",
    "print(\"-------------\")\n",
    "\n"
   ]
  },
  {
   "cell_type": "code",
   "execution_count": 14,
   "metadata": {},
   "outputs": [
    {
     "name": "stdout",
     "output_type": "stream",
     "text": [
      "Esto Es Una Cadena De Caracteres Hipnótica\n",
      "\n",
      "\n",
      "id\n",
      "username\n",
      "passwd\n",
      "email\n",
      "address\n",
      "-------------\n",
      "['id', 'username', 'passwd', 'email', 'address']\n",
      "id\n",
      "username\n",
      "passwd\n",
      "email\n",
      "address\n",
      "-------------\n"
     ]
    }
   ],
   "source": [
    "# Reemplazar ocurrencias\n",
    "print(c4.replace('hi',' '))\n",
    "print('\\n')\n",
    "print(c3.replace(';','\\n'))\n",
    "print(\"-------------\")\n",
    "\n",
    "# Separar por delimitador\n",
    "lista = c3.split(';')\n",
    "print(lista)\n",
    "for element in lista:\n",
    "    print(element)\n",
    "print(\"-------------\")"
   ]
  },
  {
   "cell_type": "code",
   "execution_count": null,
   "metadata": {},
   "outputs": [],
   "source": []
  }
 ],
 "metadata": {
  "kernelspec": {
   "display_name": "Python 3 (ipykernel)",
   "language": "python",
   "name": "python3"
  },
  "language_info": {
   "codemirror_mode": {
    "name": "ipython",
    "version": 3
   },
   "file_extension": ".py",
   "mimetype": "text/x-python",
   "name": "python",
   "nbconvert_exporter": "python",
   "pygments_lexer": "ipython3",
   "version": "3.10.8"
  },
  "orig_nbformat": 4,
  "vscode": {
   "interpreter": {
    "hash": "148bc2fe2ce836d1207444959a10972eb542baaac3c074ca73e8aeb656ed9f05"
   }
  }
 },
 "nbformat": 4,
 "nbformat_minor": 2
}
