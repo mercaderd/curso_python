{
 "cells": [
  {
   "attachments": {},
   "cell_type": "markdown",
   "metadata": {},
   "source": [
    "# 📗 Lección 06: Strings\n",
    "\n",
    "## Definición\n",
    "\n",
    "Las cadenas de texto se representan en python con objetos *str*. Se pueden definir entre comillas dobles o comillas sencillas, es inditinto."
   ]
  },
  {
   "cell_type": "code",
   "execution_count": 1,
   "metadata": {},
   "outputs": [],
   "source": [
    "# Definición de cadenas de texto (strings)\n",
    "mi_cadena = \"Esto es una cadena de texto\"\n",
    "otra_cadena = 'Esto es otra cadena de texto'"
   ]
  },
  {
   "attachments": {},
   "cell_type": "markdown",
   "metadata": {},
   "source": [
    "También se pueden definir entre triples comillas (dobles o sencillas) para textos multilínea.\n"
   ]
  },
  {
   "cell_type": "code",
   "execution_count": 2,
   "metadata": {},
   "outputs": [],
   "source": [
    "# Definición de cadenas multilínea\n",
    "mi_cadena_multi = \"\"\"Esto es una \n",
    "cadena de texto multilínea\"\"\"\n",
    "otra_cadena_multi = '''Esto es otra \n",
    "cadena de texto multilínea'''"
   ]
  },
  {
   "cell_type": "markdown",
   "metadata": {},
   "source": [
    "Se puede imprimir el contenido de una cadena de texto o imprimir la logitud de la cadena de texto."
   ]
  },
  {
   "cell_type": "code",
   "execution_count": 3,
   "metadata": {},
   "outputs": [
    {
     "name": "stdout",
     "output_type": "stream",
     "text": [
      "Esto es una cadena de texto\n",
      "Esto es otra cadena de texto\n",
      "Esto es una \n",
      "cadena de texto multilínea\n",
      "Esto es otra \n",
      "cadena de texto multilínea\n",
      "27\n",
      "39\n"
     ]
    }
   ],
   "source": [
    "# Imprimir cadenas de texto\n",
    "print(mi_cadena)\n",
    "print(otra_cadena)\n",
    "print(mi_cadena_multi)\n",
    "print(otra_cadena_multi)\n",
    "\n",
    "# Imprimir la longitud de cadenas de texto\n",
    "print(len(mi_cadena))\n",
    "print(len(mi_cadena_multi))"
   ]
  },
  {
   "cell_type": "markdown",
   "metadata": {},
   "source": [
    "Una cadena de texto puede contener números, pero sigue siendo una cadena de texto. Una cadena de texto que contiene números puede ser convertida a una variable de tipo entero con *int()*. Un número entero puede ser convertido a cadena de texto con *str()*."
   ]
  },
  {
   "cell_type": "code",
   "execution_count": 9,
   "metadata": {},
   "outputs": [
    {
     "name": "stdout",
     "output_type": "stream",
     "text": [
      "<class 'str'>\n",
      "995\n",
      "<class 'int'>\n",
      "995\n"
     ]
    }
   ],
   "source": [
    "# Esto es una cadena de texto que contiene números\n",
    "asistentes = \"995\"\n",
    "print(type(asistentes))\n",
    "print(asistentes)\n",
    "asistentes_int = int(asistentes)\n",
    "print(type(asistentes_int))\n",
    "print(str(asistentes_int))"
   ]
  },
  {
   "cell_type": "markdown",
   "metadata": {},
   "source": [
    "Se puede pedir al usuario que introduzca datos con *input()*, que los leerá siempre como string. Luego se pueden convertir al tipo de variable más conveniente."
   ]
  },
  {
   "cell_type": "code",
   "execution_count": 12,
   "metadata": {},
   "outputs": [
    {
     "name": "stdout",
     "output_type": "stream",
     "text": [
      "Su nota media es: 4.5\n"
     ]
    }
   ],
   "source": [
    "# Leer datos del usuario y convertir al tipo de variable necesario\n",
    "n1 = input(\"Introduzca su nota en matemáticas: \")\n",
    "n2 = input(\"Introduzca su nota en lengua: \")\n",
    "media = (float(n1) + float(n2)) / 2\n",
    "print(\"Su nota media es: \" + str(media))"
   ]
  },
  {
   "attachments": {},
   "cell_type": "markdown",
   "metadata": {},
   "source": [
    "## Concatenación de cadenas de texto\n",
    "\n",
    "Las cadenas de texto se pueden concatenar con el operador +. Otros operadores también pueden aplicarse a cadenas de texto.\n"
   ]
  },
  {
   "cell_type": "code",
   "execution_count": 15,
   "metadata": {},
   "outputs": [
    {
     "name": "stdout",
     "output_type": "stream",
     "text": [
      "Esto es una cadena de texto  🎉 CONCATENADA CON  🎉 Esto es otra cadena de texto\n",
      "La cadena de texto 'Esto es una cadena de texto' tiene una longitud de 27 caracteres\n"
     ]
    }
   ],
   "source": [
    "# Concatenar cadenas de texto\n",
    "concatenada = mi_cadena + '  🎉 CONCATENADA CON  🎉 ' + otra_cadena\n",
    "print(concatenada)\n",
    "\n",
    "# Algunas variables se pueden convertir a cadena de texto con str(variable) y concatenar con otras cadenas de texto\n",
    "print(\"La cadena de texto '\" + mi_cadena +\"' tiene una longitud de \" + str(len(mi_cadena)) + \" caracteres\")"
   ]
  },
  {
   "attachments": {},
   "cell_type": "markdown",
   "metadata": {},
   "source": [
    "## Carácteres especiales\n",
    "\n",
    "Las cadena pueden incluir caracteres especiales. Por ejmplo, _salto de línea_ (\\n), _retorno de carro_ (\\r) y _tabulación_ (\\t).\n",
    "\n",
    "💡 La barra invertida \\ indica que el siguiente caracter es uno especial. Si se quiere utilizar una \\ en el texto será necesario incluir dos barras invertidas \\\\.\n",
    "\n",
    "Ejemplos:"
   ]
  },
  {
   "cell_type": "code",
   "execution_count": 16,
   "metadata": {},
   "outputs": [
    {
     "name": "stdout",
     "output_type": "stream",
     "text": [
      "Cadena con salto \n",
      " de línea\n",
      "\tCadena tabulada\n",
      "\\Esto es una cadena con barras invertidas\\\n",
      "\n",
      "Primera línea\n",
      "\tSegunda línea tabulada\n"
     ]
    }
   ],
   "source": [
    "cadena_salto_linea = \"Cadena con salto \\n de línea\"\n",
    "cadena_tabulada = \"\\tCadena tabulada\"\n",
    "print(cadena_salto_linea)\n",
    "print(cadena_tabulada)\n",
    "\n",
    "cadena_escapada = \"\\\\Esto es una cadena con barras invertidas\\\\\"\n",
    "print(cadena_escapada)\n",
    "\n",
    "otro_ejemplo = \"\\n\" + \"Primera línea\" + \"\\n\" + \"\\tSegunda línea tabulada\"\n",
    "print(otro_ejemplo)"
   ]
  },
  {
   "attachments": {},
   "cell_type": "markdown",
   "metadata": {},
   "source": [
    "## Imprimir cadenas con formato (combinando otras variables)\n",
    "\n",
    "Aunque es posible concatenar cadenas, el objeto str tiene opciones para formatear cadenas de texto. Se puede utilizar el método *format*, el operador *%* o f-strings.\n",
    "\n",
    "Ejemplos:"
   ]
  },
  {
   "cell_type": "code",
   "execution_count": 18,
   "metadata": {},
   "outputs": [
    {
     "name": "stdout",
     "output_type": "stream",
     "text": [
      "Me llamo Bob El Silencioso y mi edad es 29 años\n",
      "Me llamo Bob El Silencioso y mi edad es 29 años\n",
      "Me llamo Bob El Silencioso y mi edad es 29 años\n",
      "¿num es par? False\n"
     ]
    }
   ],
   "source": [
    "# Imprimir cadenas de texto con formato\n",
    "nombre, apellido, edad = \"Bob\", \"El Silencioso\", 29\n",
    "print(\"Me llamo {} {} y mi edad es {} años\".format(nombre, apellido, edad))\n",
    "print(\"Me llamo %s %s y mi edad es %d años\" % (nombre, apellido, edad))\n",
    "\n",
    "# Formateo avanzado con f-strings\n",
    "print(f\"Me llamo {nombre} {apellido} y mi edad es {edad} años\")\n",
    "\n",
    "num = 87;\n",
    "print(f\"¿num es par? {True if num%2==0 else False}\")\n"
   ]
  },
  {
   "cell_type": "markdown",
   "metadata": {},
   "source": [
    "# Desempaquetar caracteres"
   ]
  },
  {
   "cell_type": "code",
   "execution_count": null,
   "metadata": {},
   "outputs": [],
   "source": []
  }
 ],
 "metadata": {
  "kernelspec": {
   "display_name": "Python 3 (ipykernel)",
   "language": "python",
   "name": "python3"
  },
  "language_info": {
   "codemirror_mode": {
    "name": "ipython",
    "version": 3
   },
   "file_extension": ".py",
   "mimetype": "text/x-python",
   "name": "python",
   "nbconvert_exporter": "python",
   "pygments_lexer": "ipython3",
   "version": "3.10.8"
  },
  "orig_nbformat": 4,
  "vscode": {
   "interpreter": {
    "hash": "148bc2fe2ce836d1207444959a10972eb542baaac3c074ca73e8aeb656ed9f05"
   }
  }
 },
 "nbformat": 4,
 "nbformat_minor": 2
}
