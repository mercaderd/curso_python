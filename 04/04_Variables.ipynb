{
 "cells": [
  {
   "attachments": {},
   "cell_type": "markdown",
   "metadata": {},
   "source": [
    "# Lección 04: Variables\n",
    "\n",
    "Las variables sirven para guardar datos en memoria. Una variable es un espacio en memoria en el que almacenar distintos tipos de datos.\n",
    "\n",
    "## Nombres de variables\n",
    "\n",
    "Los nombres de variable pueden ser cortos o largos, pero se recomienda utilizar nombres descriptivos del contenido. \n",
    "\n",
    "En Pyhton deben cumplirse estas condiciones para los nombres de variables:\n",
    "- Empezar por una letra o por guión bajo.\n",
    "- No empezar por un número.\n",
    "- Contener únicamente caracteres alfanuméricos o guión bajo (A-z,0-9,_).\n",
    "- Se distingue entre mayúsculas y minúsculas (Name, NAME, NAme, name son variables distintas)\n",
    "\n",
    "> **Nota:** La convención mas extendida en Python para los nombres de variables es utilizar *snake_case* (En otros lenguajes es habitual utilizar *Camel Case*). Snake case implica utilizar letras en minúsculas y separar palabras con guión bajo (_). \n",
    "\n",
    "Algunos ejemplos de nombres de variables en snake case son:\n",
    "```\n",
    "mi_variable\n",
    "variable01\n",
    "nombre\n",
    "_if\n",
    "codigo_postal\n",
    "direccion\n",
    "pais\n",
    "direccion_postal\n",
    "direccion_electronica\n",
    "```\n",
    "\n",
    "Las variables en Python se declaran asignándoles un valor, para lo que se utiliza el operador asignación (=). Algunos ejemplos:"
   ]
  },
  {
   "cell_type": "code",
   "execution_count": 3,
   "metadata": {},
   "outputs": [],
   "source": [
    "# Variables en Python\n",
    "nombre = 'Daniel'\n",
    "apellido = \"García\"\n",
    "pais = 'España'\n",
    "ciudad = 'Madrid'\n",
    "edad = 45\n",
    "casado = False"
   ]
  },
  {
   "attachments": {},
   "cell_type": "markdown",
   "metadata": {},
   "source": [
    "## Números\n",
    "\n",
    "Las varibles numéricas pueden ser:\n",
    "- Enteros\n",
    "- Coma flotante (con decimales). Separador decimal: .\n",
    "- Complejos\n",
    "\n",
    "Declaración de variables numéricas:"
   ]
  },
  {
   "cell_type": "code",
   "execution_count": 4,
   "metadata": {},
   "outputs": [
    {
     "name": "stdout",
     "output_type": "stream",
     "text": [
      "5\n",
      "5.5\n",
      "(1+2j)\n"
     ]
    }
   ],
   "source": [
    "# Variables numéricas\n",
    "entero = 5\n",
    "con_decimales = 5.5 # Ojo, se utiliza . como separador decimal\n",
    "complejo = 1 + 2j\n",
    "\n",
    "# Imprimir los valores\n",
    "print(entero)\n",
    "print(con_decimales)\n",
    "print(complejo)"
   ]
  },
  {
   "attachments": {},
   "cell_type": "markdown",
   "metadata": {},
   "source": [
    "## Cadenas de texto\n",
    "\n",
    "Las cadenas de texto se pueden declarar indistintamente entre comillas dobles o comillas simples.\n",
    "Ejemplos:\n"
   ]
  },
  {
   "cell_type": "code",
   "execution_count": 5,
   "metadata": {},
   "outputs": [
    {
     "name": "stdout",
     "output_type": "stream",
     "text": [
      "Primera cadena de texto\n",
      "Otra cadena de texto\n",
      "Tercera 'cadena' de texto\n"
     ]
    }
   ],
   "source": [
    "# Declarar cadenas de texto\n",
    "una_cadena = \"Primera cadena de texto\"\n",
    "otra_cadena = 'Otra cadena de texto'\n",
    "tercera_cadena = \"Tercera 'cadena' de texto\"\n",
    "\n",
    "#Imprimir cadenas de texto\n",
    "print(una_cadena)\n",
    "print(otra_cadena)\n",
    "print(tercera_cadena)"
   ]
  },
  {
   "attachments": {},
   "cell_type": "markdown",
   "metadata": {},
   "source": [
    "## Tipos de variables\n",
    "\n",
    "Se puede comprobar el tipo de una variable utilizando la función *type()*, e imprimir el resultado con *print()*\n",
    "\n",
    "Por ejemplo:"
   ]
  },
  {
   "cell_type": "code",
   "execution_count": 7,
   "metadata": {},
   "outputs": [
    {
     "name": "stdout",
     "output_type": "stream",
     "text": [
      "<class 'int'>\n",
      "<class 'float'>\n",
      "<class 'bool'>\n",
      "<class 'str'>\n",
      "<class 'str'>\n",
      "<class 'int'>\n",
      "<class 'float'>\n",
      "<class 'bool'>\n",
      "La variable una_cadena es de tipo:  <class 'str'>\n"
     ]
    }
   ],
   "source": [
    "# Comprobar el tipo de una variable\n",
    "print(type(3))\n",
    "print(type(3.14))\n",
    "print(type(True))\n",
    "print(type(\"cadena de texto\"))\n",
    "print(type(una_cadena))\n",
    "print(type(entero))\n",
    "print(type(con_decimales))\n",
    "print(type(casado))\n",
    "\n",
    "# Se pueden concatenar cadenas en un print\n",
    "print(\"La variable una_cadena es de tipo: \", type(una_cadena))"
   ]
  },
  {
   "attachments": {},
   "cell_type": "markdown",
   "metadata": {},
   "source": [
    "Se puede cambiar el tipo de una varible asignándole un valor de otro tipo:"
   ]
  },
  {
   "cell_type": "code",
   "execution_count": 8,
   "metadata": {},
   "outputs": [
    {
     "name": "stdout",
     "output_type": "stream",
     "text": [
      "<class 'int'>\n",
      "<class 'str'>\n"
     ]
    }
   ],
   "source": [
    "# Cambiar el tipo de una variable\n",
    "edad = 30\n",
    "print(type(edad))\n",
    "# Asignamos una cadena de texto\n",
    "edad = \"treinta\"\n",
    "print(type(edad))"
   ]
  },
  {
   "attachments": {},
   "cell_type": "markdown",
   "metadata": {},
   "source": [
    "También se puede forzar el cambio de tipo haciendo **Casting**. Se utilizan las funciones *int(), float(), str()*"
   ]
  },
  {
   "cell_type": "code",
   "execution_count": 9,
   "metadata": {},
   "outputs": [
    {
     "name": "stdout",
     "output_type": "stream",
     "text": [
      "3 + 6 = 9\n"
     ]
    }
   ],
   "source": [
    "# Ejemplo casting de variables\n",
    "un_numero = 3\n",
    "otro_numero = \"6\" # Declarado como cadena de texto\n",
    "\n",
    "suma = un_numero + int(otro_numero)\n",
    "\n",
    "print(str(3),\"+\",otro_numero,\"=\",str(suma))"
   ]
  }
 ],
 "metadata": {
  "kernelspec": {
   "display_name": "Python 3",
   "language": "python",
   "name": "python3"
  },
  "language_info": {
   "codemirror_mode": {
    "name": "ipython",
    "version": 3
   },
   "file_extension": ".py",
   "mimetype": "text/x-python",
   "name": "python",
   "nbconvert_exporter": "python",
   "pygments_lexer": "ipython3",
   "version": "3.9.6"
  },
  "orig_nbformat": 4,
  "vscode": {
   "interpreter": {
    "hash": "148bc2fe2ce836d1207444959a10972eb542baaac3c074ca73e8aeb656ed9f05"
   }
  }
 },
 "nbformat": 4,
 "nbformat_minor": 2
}
